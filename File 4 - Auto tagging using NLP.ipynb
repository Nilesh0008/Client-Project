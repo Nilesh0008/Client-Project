{
 "cells": [
  {
   "cell_type": "code",
   "execution_count": 482,
   "id": "711fe3c1",
   "metadata": {},
   "outputs": [],
   "source": [
    "#Set your project path & file name \n",
    "import pandas as pd \n",
    "import numpy as np \n",
    "import re \n",
    "import sys"
   ]
  },
  {
   "cell_type": "code",
   "execution_count": 483,
   "id": "12a99893",
   "metadata": {},
   "outputs": [
    {
     "data": {
      "text/html": [
       "<div>\n",
       "<style scoped>\n",
       "    .dataframe tbody tr th:only-of-type {\n",
       "        vertical-align: middle;\n",
       "    }\n",
       "\n",
       "    .dataframe tbody tr th {\n",
       "        vertical-align: top;\n",
       "    }\n",
       "\n",
       "    .dataframe thead th {\n",
       "        text-align: right;\n",
       "    }\n",
       "</style>\n",
       "<table border=\"1\" class=\"dataframe\">\n",
       "  <thead>\n",
       "    <tr style=\"text-align: right;\">\n",
       "      <th></th>\n",
       "      <th>Sentences</th>\n",
       "      <th>CI_Cat</th>\n",
       "      <th>CI_Subcat</th>\n",
       "      <th>WBS</th>\n",
       "      <th>Priority</th>\n",
       "      <th>Category</th>\n",
       "      <th>Closure_Code</th>\n",
       "      <th>Assigned_Groups</th>\n",
       "    </tr>\n",
       "  </thead>\n",
       "  <tbody>\n",
       "    <tr>\n",
       "      <th>0</th>\n",
       "      <td>1</td>\n",
       "      <td>subapplication</td>\n",
       "      <td>Web Based Application</td>\n",
       "      <td>WBS000162</td>\n",
       "      <td>4</td>\n",
       "      <td>incident</td>\n",
       "      <td>Other</td>\n",
       "      <td>Dev grp - Software</td>\n",
       "    </tr>\n",
       "    <tr>\n",
       "      <th>1</th>\n",
       "      <td>1</td>\n",
       "      <td>application</td>\n",
       "      <td>Web Based Application</td>\n",
       "      <td>WBS000088</td>\n",
       "      <td>3</td>\n",
       "      <td>incident</td>\n",
       "      <td>Software</td>\n",
       "      <td>Dev grp - Software</td>\n",
       "    </tr>\n",
       "    <tr>\n",
       "      <th>2</th>\n",
       "      <td>1</td>\n",
       "      <td>application</td>\n",
       "      <td>Desktop Application</td>\n",
       "      <td>WBS000092</td>\n",
       "      <td>3</td>\n",
       "      <td>request for information</td>\n",
       "      <td>No error - works as designed</td>\n",
       "      <td>Dev grp - Software</td>\n",
       "    </tr>\n",
       "    <tr>\n",
       "      <th>3</th>\n",
       "      <td>1</td>\n",
       "      <td>application</td>\n",
       "      <td>Web Based Application</td>\n",
       "      <td>WBS000088</td>\n",
       "      <td>4</td>\n",
       "      <td>incident</td>\n",
       "      <td>Operator error</td>\n",
       "      <td>Dev grp - Software</td>\n",
       "    </tr>\n",
       "    <tr>\n",
       "      <th>4</th>\n",
       "      <td>1</td>\n",
       "      <td>application</td>\n",
       "      <td>Web Based Application</td>\n",
       "      <td>WBS000088</td>\n",
       "      <td>4</td>\n",
       "      <td>incident</td>\n",
       "      <td>Other</td>\n",
       "      <td>Dev grp - Software</td>\n",
       "    </tr>\n",
       "  </tbody>\n",
       "</table>\n",
       "</div>"
      ],
      "text/plain": [
       "   Sentences          CI_Cat              CI_Subcat        WBS  Priority  \\\n",
       "0          1  subapplication  Web Based Application  WBS000162         4   \n",
       "1          1     application  Web Based Application  WBS000088         3   \n",
       "2          1     application    Desktop Application  WBS000092         3   \n",
       "3          1     application  Web Based Application  WBS000088         4   \n",
       "4          1     application  Web Based Application  WBS000088         4   \n",
       "\n",
       "                  Category                  Closure_Code     Assigned_Groups  \n",
       "0                 incident                         Other  Dev grp - Software  \n",
       "1                 incident                      Software  Dev grp - Software  \n",
       "2  request for information  No error - works as designed  Dev grp - Software  \n",
       "3                 incident                Operator error  Dev grp - Software  \n",
       "4                 incident                         Other  Dev grp - Software  "
      ]
     },
     "execution_count": 483,
     "metadata": {},
     "output_type": "execute_result"
    }
   ],
   "source": [
    "data = pd.read_csv(\"ITSMGROUPR.csv\")\n",
    "data.head()"
   ]
  },
  {
   "cell_type": "code",
   "execution_count": 485,
   "id": "190dbf06",
   "metadata": {},
   "outputs": [
    {
     "data": {
      "text/plain": [
       "(66,)"
      ]
     },
     "execution_count": 485,
     "metadata": {},
     "output_type": "execute_result"
    }
   ],
   "source": [
    "callers = data['CI_Subcat'].unique() \n",
    "callers.shape\n",
    "#itTicketDF.drop([\"Caller\",'Short description'],axis=1,inplace= True)\n",
    "#itTicketDF.info()"
   ]
  },
  {
   "cell_type": "code",
   "execution_count": 486,
   "id": "2ace6833",
   "metadata": {},
   "outputs": [
    {
     "data": {
      "text/plain": [
       "(46495, 8)"
      ]
     },
     "execution_count": 486,
     "metadata": {},
     "output_type": "execute_result"
    }
   ],
   "source": [
    "data.shape"
   ]
  },
  {
   "cell_type": "code",
   "execution_count": 487,
   "id": "80f3d1a6",
   "metadata": {
    "scrolled": true
   },
   "outputs": [
    {
     "data": {
      "text/plain": [
       "array(['Other', 'Software', 'No error - works as designed',\n",
       "       'Operator error', 'Unknown', 'Data', 'Referred',\n",
       "       'Infra grp - hardware', 'Questions', 'User error', 'Inquiry',\n",
       "       'User manual not used', 'Kwaliteit van de output', 'other',\n",
       "       'Overig'], dtype=object)"
      ]
     },
     "execution_count": 487,
     "metadata": {},
     "output_type": "execute_result"
    }
   ],
   "source": [
    "data['Closure_Code'].unique() \n"
   ]
  },
  {
   "cell_type": "code",
   "execution_count": 488,
   "id": "e59ed204",
   "metadata": {},
   "outputs": [
    {
     "data": {
      "text/plain": [
       "count       15.000000\n",
       "mean      3099.666667\n",
       "std       4926.892264\n",
       "min          1.000000\n",
       "25%        160.000000\n",
       "50%       1537.000000\n",
       "75%       3254.500000\n",
       "max      16439.000000\n",
       "Name: Closure_Code, dtype: float64"
      ]
     },
     "execution_count": 488,
     "metadata": {},
     "output_type": "execute_result"
    }
   ],
   "source": [
    "targetClassCnt=data['Closure_Code'].value_counts()\n",
    "targetClassCnt.describe()"
   ]
  },
  {
   "cell_type": "code",
   "execution_count": 489,
   "id": "a9c8fef9",
   "metadata": {},
   "outputs": [
    {
     "name": "stdout",
     "output_type": "stream",
     "text": [
      "Tensorflow version:  2.7.0\n"
     ]
    }
   ],
   "source": [
    "import tensorflow as tf\n",
    "print('Tensorflow version: ', tf.__version__)"
   ]
  },
  {
   "cell_type": "code",
   "execution_count": 490,
   "id": "24b78a71",
   "metadata": {},
   "outputs": [
    {
     "name": "stdout",
     "output_type": "stream",
     "text": [
      "Unique words in corpus:  66\n",
      "Unique tags in corpus:  15\n"
     ]
    }
   ],
   "source": [
    "print('Unique words in corpus: ', data['CI_Subcat'].nunique())\n",
    "print('Unique tags in corpus: ', data['Closure_Code'].nunique())"
   ]
  },
  {
   "cell_type": "code",
   "execution_count": 491,
   "id": "ae7b8628",
   "metadata": {},
   "outputs": [
    {
     "name": "stdout",
     "output_type": "stream",
     "text": [
      "67\n"
     ]
    }
   ],
   "source": [
    "words = list(set(data['CI_Subcat'].values))\n",
    "words.append('ENDPAD')\n",
    "num_words = len(words)\n",
    "print(num_words)"
   ]
  },
  {
   "cell_type": "code",
   "execution_count": 492,
   "id": "660405cb",
   "metadata": {},
   "outputs": [
    {
     "name": "stdout",
     "output_type": "stream",
     "text": [
      "15\n"
     ]
    }
   ],
   "source": [
    "tags = list(set(data['Closure_Code'].values))\n",
    "num_tags = len(tags)\n",
    "print(num_tags)"
   ]
  },
  {
   "cell_type": "code",
   "execution_count": 493,
   "id": "35447418",
   "metadata": {},
   "outputs": [
    {
     "data": {
      "text/plain": [
       "(67, 15)"
      ]
     },
     "execution_count": 493,
     "metadata": {},
     "output_type": "execute_result"
    }
   ],
   "source": [
    "num_words, num_tags"
   ]
  },
  {
   "cell_type": "markdown",
   "id": "a807b847",
   "metadata": {},
   "source": [
    "## Retrieve sentences and corresponding tags"
   ]
  },
  {
   "cell_type": "code",
   "execution_count": 494,
   "id": "d3ed2a3e",
   "metadata": {},
   "outputs": [],
   "source": [
    "class SentenceGetter(object):\n",
    "    def __init__(self, df):\n",
    "        self.n_sent = 1\n",
    "        self.df = df\n",
    "        agg_func = lambda s: [(w,p,t) for w,p,t in zip(s['CI_Subcat'].values.tolist(),\n",
    "                                                         s['CI_Cat'].values.tolist(),\n",
    "                                                          s['Closure_Code'].values.tolist())]\n",
    "        self.grouped = self.df.groupby('Sentences').apply(agg_func)\n",
    "        self.sentences = [s for s in self.grouped]"
   ]
  },
  {
   "cell_type": "code",
   "execution_count": 495,
   "id": "0699fd6d",
   "metadata": {},
   "outputs": [],
   "source": [
    "getter = SentenceGetter(data)\n",
    "sentences = getter.sentences"
   ]
  },
  {
   "cell_type": "code",
   "execution_count": 496,
   "id": "f6fd8418",
   "metadata": {
    "collapsed": true
   },
   "outputs": [
    {
     "data": {
      "text/plain": [
       "[('Printer', 'officeelectronics', 'Other'),\n",
       " ('Scanner', 'officeelectronics', 'Infra grp - hardware'),\n",
       " ('Printer', 'officeelectronics', 'Software'),\n",
       " ('Printer', 'officeelectronics', 'Software'),\n",
       " ('Scanner', 'officeelectronics', 'No error - works as designed'),\n",
       " ('Printer', 'officeelectronics', 'Software'),\n",
       " ('Printer', 'officeelectronics', 'Software'),\n",
       " ('Printer', 'officeelectronics', 'Software'),\n",
       " ('Scanner', 'officeelectronics', 'Infra grp - hardware'),\n",
       " ('Scanner', 'officeelectronics', 'Infra grp - hardware'),\n",
       " ('Printer', 'officeelectronics', 'Infra grp - hardware'),\n",
       " ('Printer', 'officeelectronics', 'Software'),\n",
       " ('Printer', 'officeelectronics', 'User error'),\n",
       " ('Printer', 'officeelectronics', 'Software'),\n",
       " ('Printer', 'officeelectronics', 'Other'),\n",
       " ('Scanner', 'officeelectronics', 'Infra grp - hardware'),\n",
       " ('Scanner', 'officeelectronics', 'Other'),\n",
       " ('Printer', 'officeelectronics', 'Software'),\n",
       " ('Printer', 'officeelectronics', 'Other'),\n",
       " ('Scanner', 'officeelectronics', 'Other'),\n",
       " ('Scanner', 'officeelectronics', 'Infra grp - hardware'),\n",
       " ('Scanner', 'officeelectronics', 'Other'),\n",
       " ('Scanner', 'officeelectronics', 'Infra grp - hardware'),\n",
       " ('Printer', 'officeelectronics', 'Software'),\n",
       " ('Scanner', 'officeelectronics', 'Infra grp - hardware'),\n",
       " ('Scanner', 'officeelectronics', 'Infra grp - hardware'),\n",
       " ('Scanner', 'officeelectronics', 'Infra grp - hardware'),\n",
       " ('Scanner', 'officeelectronics', 'Infra grp - hardware'),\n",
       " ('Printer', 'officeelectronics', 'Operator error'),\n",
       " ('Scanner', 'officeelectronics', 'Other'),\n",
       " ('Printer', 'officeelectronics', 'Software'),\n",
       " ('Printer', 'officeelectronics', 'Software'),\n",
       " ('Scanner', 'officeelectronics', 'Software'),\n",
       " ('Scanner', 'officeelectronics', 'Infra grp - hardware'),\n",
       " ('Printer', 'officeelectronics', 'Software'),\n",
       " ('Printer', 'officeelectronics', 'Software'),\n",
       " ('Printer', 'officeelectronics', 'Software'),\n",
       " ('Printer', 'officeelectronics', 'Software'),\n",
       " ('Printer', 'officeelectronics', 'Software'),\n",
       " ('Scanner', 'officeelectronics', 'Other'),\n",
       " ('Printer', 'officeelectronics', 'Software'),\n",
       " ('Printer', 'officeelectronics', 'Software'),\n",
       " ('Scanner', 'officeelectronics', 'Other'),\n",
       " ('Printer', 'officeelectronics', 'Software'),\n",
       " ('Scanner', 'officeelectronics', 'Referred'),\n",
       " ('Printer', 'officeelectronics', 'Software'),\n",
       " ('Scanner', 'officeelectronics', 'Infra grp - hardware'),\n",
       " ('Scanner', 'officeelectronics', 'Software'),\n",
       " ('Printer', 'officeelectronics', 'Software'),\n",
       " ('Printer', 'officeelectronics', 'Software'),\n",
       " ('Scanner', 'officeelectronics', 'Operator error'),\n",
       " ('Printer', 'officeelectronics', 'Software'),\n",
       " ('Scanner', 'officeelectronics', 'Other'),\n",
       " ('Printer', 'officeelectronics', 'Software'),\n",
       " ('Printer', 'officeelectronics', 'Software'),\n",
       " ('Printer', 'officeelectronics', 'Software'),\n",
       " ('Printer', 'officeelectronics', 'Software'),\n",
       " ('Printer', 'officeelectronics', 'Software'),\n",
       " ('Printer', 'officeelectronics', 'Software'),\n",
       " ('Printer', 'officeelectronics', 'Software'),\n",
       " ('Printer', 'officeelectronics', 'Software'),\n",
       " ('Printer', 'officeelectronics', 'Software'),\n",
       " ('Printer', 'officeelectronics', 'Software'),\n",
       " ('Scanner', 'officeelectronics', 'Unknown'),\n",
       " ('Printer', 'officeelectronics', 'Software'),\n",
       " ('Scanner', 'officeelectronics', 'Other'),\n",
       " ('Number', 'Phone', 'Infra grp - hardware'),\n",
       " ('Printer', 'officeelectronics', 'Software'),\n",
       " ('Printer', 'officeelectronics', 'Infra grp - hardware'),\n",
       " ('Scanner', 'officeelectronics', 'Infra grp - hardware'),\n",
       " ('Scanner', 'officeelectronics', 'Infra grp - hardware'),\n",
       " ('Printer', 'officeelectronics', 'Software'),\n",
       " ('Printer', 'officeelectronics', 'Infra grp - hardware'),\n",
       " ('Printer', 'officeelectronics', 'Software'),\n",
       " ('Printer', 'officeelectronics', 'Unknown'),\n",
       " ('Printer', 'officeelectronics', 'Software'),\n",
       " ('Printer', 'officeelectronics', 'Software'),\n",
       " ('Printer', 'officeelectronics', 'Software'),\n",
       " ('Printer', 'officeelectronics', 'Software'),\n",
       " ('Printer', 'officeelectronics', 'Infra grp - hardware'),\n",
       " ('Scanner', 'officeelectronics', 'Referred'),\n",
       " ('Scanner', 'officeelectronics', 'Software'),\n",
       " ('Printer', 'officeelectronics', 'Software'),\n",
       " ('Printer', 'officeelectronics', 'Software'),\n",
       " ('Scanner', 'officeelectronics', 'Software'),\n",
       " ('Printer', 'officeelectronics', 'Software'),\n",
       " ('Printer', 'officeelectronics', 'Infra grp - hardware'),\n",
       " ('Printer', 'officeelectronics', 'Software'),\n",
       " ('Printer', 'officeelectronics', 'Other'),\n",
       " ('Printer', 'officeelectronics', 'Software'),\n",
       " ('Scanner', 'officeelectronics', 'Other'),\n",
       " ('Scanner', 'officeelectronics', 'Infra grp - hardware'),\n",
       " ('Printer', 'officeelectronics', 'Software'),\n",
       " ('Printer', 'officeelectronics', 'Software'),\n",
       " ('Printer', 'officeelectronics', 'Software'),\n",
       " ('Printer', 'officeelectronics', 'Software'),\n",
       " ('Scanner', 'officeelectronics', 'Infra grp - hardware'),\n",
       " ('Printer', 'officeelectronics', 'Software'),\n",
       " ('Printer', 'officeelectronics', 'Software'),\n",
       " ('Scanner', 'officeelectronics', 'Infra grp - hardware'),\n",
       " ('Printer', 'officeelectronics', 'Software'),\n",
       " ('Printer', 'officeelectronics', 'No error - works as designed'),\n",
       " ('Scanner', 'officeelectronics', 'Infra grp - hardware'),\n",
       " ('Scanner', 'officeelectronics', 'Infra grp - hardware'),\n",
       " ('Printer', 'officeelectronics', 'Operator error'),\n",
       " ('Printer', 'officeelectronics', 'Software'),\n",
       " ('Printer', 'officeelectronics', 'Other'),\n",
       " ('Printer', 'officeelectronics', 'Infra grp - hardware'),\n",
       " ('Scanner', 'officeelectronics', 'Infra grp - hardware'),\n",
       " ('Printer', 'officeelectronics', 'Software'),\n",
       " ('Scanner', 'officeelectronics', 'Unknown'),\n",
       " ('Scanner', 'officeelectronics', 'Other'),\n",
       " ('Printer', 'officeelectronics', 'User error'),\n",
       " ('Scanner', 'officeelectronics', 'Software'),\n",
       " ('Scanner', 'officeelectronics', 'Infra grp - hardware'),\n",
       " ('Scanner', 'officeelectronics', 'Software'),\n",
       " ('Printer', 'officeelectronics', 'Software'),\n",
       " ('Scanner', 'officeelectronics', 'Other'),\n",
       " ('Printer', 'officeelectronics', 'Unknown'),\n",
       " ('Scanner', 'officeelectronics', 'Software'),\n",
       " ('Printer', 'officeelectronics', 'Software'),\n",
       " ('Scanner', 'officeelectronics', 'Software'),\n",
       " ('Printer', 'officeelectronics', 'Software'),\n",
       " ('Printer', 'officeelectronics', 'Software'),\n",
       " ('Printer', 'officeelectronics', 'No error - works as designed'),\n",
       " ('Printer', 'officeelectronics', 'Software'),\n",
       " ('Number', 'Phone', 'Operator error'),\n",
       " ('Printer', 'officeelectronics', 'Software'),\n",
       " ('Scanner', 'officeelectronics', 'Infra grp - hardware'),\n",
       " ('Printer', 'officeelectronics', 'Software'),\n",
       " ('Printer', 'officeelectronics', 'Other'),\n",
       " ('Printer', 'officeelectronics', 'Software'),\n",
       " ('Printer', 'officeelectronics', 'Software'),\n",
       " ('Scanner', 'officeelectronics', 'Infra grp - hardware'),\n",
       " ('Scanner', 'officeelectronics', 'Other'),\n",
       " ('Printer', 'officeelectronics', 'Infra grp - hardware'),\n",
       " ('Printer', 'officeelectronics', 'Other'),\n",
       " ('Scanner', 'officeelectronics', 'No error - works as designed'),\n",
       " ('Scanner', 'officeelectronics', 'Other'),\n",
       " ('Printer', 'officeelectronics', 'Software'),\n",
       " ('Scanner', 'officeelectronics', 'Other'),\n",
       " ('Printer', 'officeelectronics', 'Software'),\n",
       " ('Scanner', 'officeelectronics', 'Infra grp - hardware'),\n",
       " ('Scanner', 'officeelectronics', 'Other'),\n",
       " ('Scanner', 'officeelectronics', 'Software'),\n",
       " ('Scanner', 'officeelectronics', 'Infra grp - hardware'),\n",
       " ('Scanner', 'officeelectronics', 'Infra grp - hardware'),\n",
       " ('Scanner', 'officeelectronics', 'Infra grp - hardware'),\n",
       " ('Scanner', 'officeelectronics', 'Infra grp - hardware'),\n",
       " ('Scanner', 'officeelectronics', 'No error - works as designed'),\n",
       " ('Scanner', 'officeelectronics', 'Unknown'),\n",
       " ('Scanner', 'officeelectronics', 'Data'),\n",
       " ('Scanner', 'officeelectronics', 'No error - works as designed'),\n",
       " ('Scanner', 'officeelectronics', 'Data')]"
      ]
     },
     "execution_count": 496,
     "metadata": {},
     "output_type": "execute_result"
    }
   ],
   "source": [
    "sentences[3]"
   ]
  },
  {
   "cell_type": "markdown",
   "id": "4d6c74c1",
   "metadata": {},
   "source": [
    "## Define mappings between sentences and tags"
   ]
  },
  {
   "cell_type": "code",
   "execution_count": 497,
   "id": "b5d481e8",
   "metadata": {},
   "outputs": [],
   "source": [
    "word2idx = {w: i+1 for i, w in enumerate(words)}\n",
    "tag2idx = {t: i for i, t in enumerate(tags)}"
   ]
  },
  {
   "cell_type": "code",
   "execution_count": 149,
   "id": "624ab993",
   "metadata": {},
   "outputs": [],
   "source": [
    "### Padding input sentences and creating train/test split"
   ]
  },
  {
   "cell_type": "code",
   "execution_count": 498,
   "id": "d316c6bd",
   "metadata": {},
   "outputs": [],
   "source": [
    "from matplotlib import pyplot as plt"
   ]
  },
  {
   "cell_type": "code",
   "execution_count": 501,
   "id": "b68e714e",
   "metadata": {},
   "outputs": [
    {
     "data": {
      "image/png": "[encoded data removed]",
      "text/plain": [
       "<Figure size 432x288 with 1 Axes>"
      ]
     },
     "metadata": {
      "needs_background": "light"
     },
     "output_type": "display_data"
    }
   ],
   "source": [
    "plt.hist([len(s) for s in sentences], bins=50)\n",
    "plt.show();\n"
   ]
  },
  {
   "cell_type": "code",
   "execution_count": 502,
   "id": "88290852",
   "metadata": {},
   "outputs": [],
   "source": [
    "from tensorflow.keras.preprocessing.sequence import pad_sequences\n",
    "from tensorflow.keras.utils import to_categorical\n",
    "\n",
    "max_len =50\n",
    "X = [[word2idx[w[0]] for w in s] for s in sentences]\n",
    "X = pad_sequences(maxlen = max_len, sequences = X, padding='post', value=num_words-1)\n",
    "\n",
    "y = [[tag2idx[w[2]] for w in s] for s in sentences]\n",
    "y = pad_sequences(maxlen = max_len, sequences = y, padding = 'post', value = tag2idx['Software'])\n",
    "y = [to_categorical(i, num_classes=num_tags) for i in y]"
   ]
  },
  {
   "cell_type": "code",
   "execution_count": 503,
   "id": "52cf993f",
   "metadata": {
    "scrolled": true
   },
   "outputs": [],
   "source": [
    "from sklearn.model_selection import train_test_split\n",
    "\n",
    "x_train, x_test, y_train, y_test = train_test_split(X, y, test_size=0.2, random_state=1)"
   ]
  },
  {
   "cell_type": "markdown",
   "id": "7c768146",
   "metadata": {},
   "source": [
    "## Build and compile a Bidirectional LSTM model"
   ]
  },
  {
   "cell_type": "code",
   "execution_count": 504,
   "id": "706bf1f7",
   "metadata": {},
   "outputs": [],
   "source": [
    "from tensorflow.keras import Model, Input\n",
    "from tensorflow.keras.layers import LSTM, Embedding, Dense\n",
    "from tensorflow.keras.layers import TimeDistributed, SpatialDropout1D, Bidirectional"
   ]
  },
  {
   "cell_type": "code",
   "execution_count": 505,
   "id": "157bfb0b",
   "metadata": {},
   "outputs": [
    {
     "name": "stdout",
     "output_type": "stream",
     "text": [
      "application\n",
      "Closure_Code application\n"
     ]
    }
   ],
   "source": [
    "def print_plot(index):\n",
    "    example = data[data.index == index][['CI_Cat', 'CI_Subcat']].values[0]\n",
    "    if len(example) > 0:\n",
    "        print(example[0])\n",
    "        print('Closure_Code', example[0])\n",
    "print_plot(10)"
   ]
  },
  {
   "cell_type": "code",
   "execution_count": 506,
   "id": "eac59cc3",
   "metadata": {},
   "outputs": [
    {
     "name": "stdout",
     "output_type": "stream",
     "text": [
      "application\n",
      "Closure_Code application\n"
     ]
    }
   ],
   "source": [
    "print_plot(100)"
   ]
  },
  {
   "cell_type": "code",
   "execution_count": 507,
   "id": "177c7d0c",
   "metadata": {},
   "outputs": [
    {
     "name": "stdout",
     "output_type": "stream",
     "text": [
      "Model: \"model_25\"\n",
      "_________________________________________________________________\n",
      " Layer (type)                Output Shape              Param #   \n",
      "=================================================================\n",
      " input_25 (InputLayer)       [(None, 50)]              0         \n",
      "                                                                 \n",
      " embedding_26 (Embedding)    (None, 50, 50)            3350      \n",
      "                                                                 \n",
      " spatial_dropout1d_26 (Spati  (None, 50, 50)           0         \n",
      " alDropout1D)                                                    \n",
      "                                                                 \n",
      " bidirectional_26 (Bidirecti  (None, 50, 200)          120800    \n",
      " onal)                                                           \n",
      "                                                                 \n",
      " time_distributed_25 (TimeDi  (None, 50, 15)           3015      \n",
      " stributed)                                                      \n",
      "                                                                 \n",
      "=================================================================\n",
      "Total params: 127,165\n",
      "Trainable params: 127,165\n",
      "Non-trainable params: 0\n",
      "_________________________________________________________________\n"
     ]
    }
   ],
   "source": [
    "input_word = Input(shape=(max_len,))\n",
    "model = Embedding(input_dim = num_words, output_dim = max_len, input_length = max_len)(input_word)\n",
    "model = SpatialDropout1D(0.1)(model)\n",
    "model = Bidirectional(LSTM(units=100, return_sequences=True, recurrent_dropout=0.1))(model)\n",
    "out = TimeDistributed(Dense(num_tags, activation='softmax'))(model)\n",
    "model = Model(input_word, out)\n",
    "model.summary()"
   ]
  },
  {
   "cell_type": "code",
   "execution_count": 508,
   "id": "f3b6fa48",
   "metadata": {},
   "outputs": [],
   "source": [
    "#model.compile(optimizer='adam',metrics=['accuracy'])\n",
    "#model.compile(optimizer='adam', loss='categorical_crossentropy', metrics=['accuracy'])\n",
    "model.compile(loss='categorical_crossentropy',\n",
    "              optimizer='sgd',\n",
    "              metrics=['accuracy'])"
   ]
  },
  {
   "cell_type": "markdown",
   "id": "0edafd41",
   "metadata": {},
   "source": [
    " ### Train the model"
   ]
  },
  {
   "cell_type": "code",
   "execution_count": 344,
   "id": "37b4b2fd",
   "metadata": {
    "collapsed": true
   },
   "outputs": [
    {
     "name": "stdout",
     "output_type": "stream",
     "text": [
      "Requirement already satisfied: livelossplot in c:\\users\\ajikrishnan\\anaconda3\\lib\\site-packages (0.5.4)Note: you may need to restart the kernel to use updated packages.\n",
      "\n",
      "Requirement already satisfied: ipython in c:\\users\\ajikrishnan\\anaconda3\\lib\\site-packages (from livelossplot) (7.22.0)\n",
      "Requirement already satisfied: matplotlib in c:\\users\\ajikrishnan\\anaconda3\\lib\\site-packages (from livelossplot) (3.3.4)\n",
      "Requirement already satisfied: bokeh in c:\\users\\ajikrishnan\\anaconda3\\lib\\site-packages (from livelossplot) (2.4.2)\n",
      "Requirement already satisfied: Jinja2>=2.9 in c:\\users\\ajikrishnan\\anaconda3\\lib\\site-packages (from bokeh->livelossplot) (2.11.3)\n",
      "Requirement already satisfied: pillow>=7.1.0 in c:\\users\\ajikrishnan\\anaconda3\\lib\\site-packages (from bokeh->livelossplot) (8.2.0)\n",
      "Requirement already satisfied: PyYAML>=3.10 in c:\\users\\ajikrishnan\\anaconda3\\lib\\site-packages (from bokeh->livelossplot) (5.4.1)\n",
      "Requirement already satisfied: tornado>=5.1 in c:\\users\\ajikrishnan\\anaconda3\\lib\\site-packages (from bokeh->livelossplot) (6.1)\n",
      "Requirement already satisfied: numpy>=1.11.3 in c:\\users\\ajikrishnan\\anaconda3\\lib\\site-packages (from bokeh->livelossplot) (1.20.1)\n",
      "Requirement already satisfied: packaging>=16.8 in c:\\users\\ajikrishnan\\anaconda3\\lib\\site-packages (from bokeh->livelossplot) (20.9)\n",
      "Requirement already satisfied: typing-extensions>=3.10.0 in c:\\users\\ajikrishnan\\anaconda3\\lib\\site-packages (from bokeh->livelossplot) (4.0.1)\n",
      "Requirement already satisfied: MarkupSafe>=0.23 in c:\\users\\ajikrishnan\\anaconda3\\lib\\site-packages (from Jinja2>=2.9->bokeh->livelossplot) (1.1.1)\n",
      "Requirement already satisfied: pyparsing>=2.0.2 in c:\\users\\ajikrishnan\\anaconda3\\lib\\site-packages (from packaging>=16.8->bokeh->livelossplot) (2.4.7)\n",
      "Requirement already satisfied: prompt-toolkit!=3.0.0,!=3.0.1,<3.1.0,>=2.0.0 in c:\\users\\ajikrishnan\\anaconda3\\lib\\site-packages (from ipython->livelossplot) (3.0.17)\n",
      "Requirement already satisfied: colorama in c:\\users\\ajikrishnan\\anaconda3\\lib\\site-packages (from ipython->livelossplot) (0.4.4)\n",
      "Requirement already satisfied: traitlets>=4.2 in c:\\users\\ajikrishnan\\anaconda3\\lib\\site-packages (from ipython->livelossplot) (5.0.5)\n",
      "Requirement already satisfied: pickleshare in c:\\users\\ajikrishnan\\anaconda3\\lib\\site-packages (from ipython->livelossplot) (0.7.5)\n",
      "Requirement already satisfied: jedi>=0.16 in c:\\users\\ajikrishnan\\anaconda3\\lib\\site-packages (from ipython->livelossplot) (0.17.2)\n",
      "Requirement already satisfied: pygments in c:\\users\\ajikrishnan\\anaconda3\\lib\\site-packages (from ipython->livelossplot) (2.8.1)\n",
      "Requirement already satisfied: decorator in c:\\users\\ajikrishnan\\anaconda3\\lib\\site-packages (from ipython->livelossplot) (5.0.6)\n",
      "Requirement already satisfied: setuptools>=18.5 in c:\\users\\ajikrishnan\\anaconda3\\lib\\site-packages (from ipython->livelossplot) (52.0.0.post20210125)\n",
      "Requirement already satisfied: backcall in c:\\users\\ajikrishnan\\anaconda3\\lib\\site-packages (from ipython->livelossplot) (0.2.0)\n",
      "Requirement already satisfied: parso<0.8.0,>=0.7.0 in c:\\users\\ajikrishnan\\anaconda3\\lib\\site-packages (from jedi>=0.16->ipython->livelossplot) (0.7.0)\n",
      "Requirement already satisfied: wcwidth in c:\\users\\ajikrishnan\\anaconda3\\lib\\site-packages (from prompt-toolkit!=3.0.0,!=3.0.1,<3.1.0,>=2.0.0->ipython->livelossplot) (0.2.5)\n",
      "Requirement already satisfied: ipython-genutils in c:\\users\\ajikrishnan\\anaconda3\\lib\\site-packages (from traitlets>=4.2->ipython->livelossplot) (0.2.0)\n",
      "Requirement already satisfied: python-dateutil>=2.1 in c:\\users\\ajikrishnan\\anaconda3\\lib\\site-packages (from matplotlib->livelossplot) (2.8.1)\n",
      "Requirement already satisfied: kiwisolver>=1.0.1 in c:\\users\\ajikrishnan\\anaconda3\\lib\\site-packages (from matplotlib->livelossplot) (1.3.1)\n",
      "Requirement already satisfied: cycler>=0.10 in c:\\users\\ajikrishnan\\anaconda3\\lib\\site-packages (from matplotlib->livelossplot) (0.10.0)\n",
      "Requirement already satisfied: six in c:\\users\\ajikrishnan\\anaconda3\\lib\\site-packages (from cycler>=0.10->matplotlib->livelossplot) (1.15.0)\n"
     ]
    }
   ],
   "source": [
    "pip install livelossplot"
   ]
  },
  {
   "cell_type": "code",
   "execution_count": 509,
   "id": "95c37122",
   "metadata": {
    "scrolled": true
   },
   "outputs": [],
   "source": [
    "from tensorflow.keras.callbacks import ModelCheckpoint, EarlyStopping\n",
    "from livelossplot.tf_keras import PlotLossesCallback"
   ]
  },
  {
   "cell_type": "code",
   "execution_count": 30,
   "id": "a9b6ea58",
   "metadata": {},
   "outputs": [],
   "source": [
    "#lm.fit(train_data, train_labels, epochs=2, validation_data=(val_data, val_labels), shuffle=True)"
   ]
  },
  {
   "cell_type": "code",
   "execution_count": 510,
   "id": "4c6462e8",
   "metadata": {
    "scrolled": true
   },
   "outputs": [
    {
     "data": {
      "text/plain": [
       "(4, 50)"
      ]
     },
     "execution_count": 510,
     "metadata": {},
     "output_type": "execute_result"
    }
   ],
   "source": [
    " X.shape"
   ]
  },
  {
   "cell_type": "code",
   "execution_count": 511,
   "id": "fa82824d",
   "metadata": {},
   "outputs": [
    {
     "data": {
      "text/plain": [
       "(46495, 15)"
      ]
     },
     "execution_count": 511,
     "metadata": {},
     "output_type": "execute_result"
    }
   ],
   "source": [
    "Y.shape"
   ]
  },
  {
   "cell_type": "code",
   "execution_count": 520,
   "id": "5a967b11",
   "metadata": {},
   "outputs": [
    {
     "name": "stdout",
     "output_type": "stream",
     "text": [
      "Closure_Code (46495, 15)\n"
     ]
    }
   ],
   "source": [
    "Y = pd.get_dummies(data['Closure_Code']).values\n",
    "print('Closure_Code', Y.shape)"
   ]
  },
  {
   "cell_type": "code",
   "execution_count": 521,
   "id": "bd2a6913",
   "metadata": {},
   "outputs": [
    {
     "name": "stdout",
     "output_type": "stream",
     "text": [
      "Epoch 1/3\n",
      "1/1 [==============================] - 0s 76ms/step - loss: 2.6247 - accuracy: 0.2900 - val_loss: 2.6328 - val_accuracy: 0.5200\n",
      "Epoch 2/3\n",
      "1/1 [==============================] - 0s 57ms/step - loss: 2.6222 - accuracy: 0.3100 - val_loss: 2.6295 - val_accuracy: 0.5200\n",
      "Epoch 3/3\n",
      "1/1 [==============================] - 0s 58ms/step - loss: 2.6172 - accuracy: 0.3000 - val_loss: 2.6261 - val_accuracy: 0.5200\n"
     ]
    }
   ],
   "source": [
    "early_stopping = EarlyStopping(monitor='val_accuracy', patience=1, verbose=0, mode='max', restore_best_weights=False)\n",
    "callbacks = [PlotLossesCallback(), early_stopping]\n",
    "\n",
    "history = model.fit(\n",
    "    x_train, np.array(y_train),\n",
    "    validation_split=0.2,\n",
    "    batch_size = 32,\n",
    "    epochs = 3,\n",
    "    verbose = 1,\n",
    "#    callbacks = callbacks\n",
    ")"
   ]
  },
  {
   "cell_type": "markdown",
   "id": "84748fba",
   "metadata": {},
   "source": [
    "### Evaluate Named Entity Recognition model"
   ]
  },
  {
   "cell_type": "code",
   "execution_count": 522,
   "id": "31a885ef",
   "metadata": {},
   "outputs": [
    {
     "data": {
      "image/png": "[encoded data removed]",
      "text/plain": [
       "<Figure size 432x288 with 1 Axes>"
      ]
     },
     "metadata": {
      "needs_background": "light"
     },
     "output_type": "display_data"
    },
    {
     "data": {
      "image/png": "[encoded data removed]",
      "text/plain": [
       "<Figure size 432x288 with 1 Axes>"
      ]
     },
     "metadata": {
      "needs_background": "light"
     },
     "output_type": "display_data"
    }
   ],
   "source": [
    "def plot_graphs(history, string):\n",
    "    plt.plot(history.history[string])\n",
    "    plt.plot(history.history['val_'+string])\n",
    "    plt.xlabel(\"Epochs\")\n",
    "    plt.ylabel(string)\n",
    "    plt.legend([string, 'val_'+string])\n",
    "    plt.show()\n",
    "\n",
    "plot_graphs(history, \"accuracy\")\n",
    "plot_graphs(history, \"loss\");"
   ]
  },
  {
   "cell_type": "code",
   "execution_count": 523,
   "id": "3b3f4655",
   "metadata": {},
   "outputs": [
    {
     "name": "stdout",
     "output_type": "stream",
     "text": [
      "1/1 [==============================] - 0s 19ms/step - loss: 2.6291 - accuracy: 0.2600\n"
     ]
    },
    {
     "data": {
      "text/plain": [
       "[2.6291463375091553, 0.25999999046325684]"
      ]
     },
     "execution_count": 523,
     "metadata": {},
     "output_type": "execute_result"
    }
   ],
   "source": [
    "model.evaluate(x_test, np.array(y_test))"
   ]
  },
  {
   "cell_type": "code",
   "execution_count": 524,
   "id": "2359ead9",
   "metadata": {},
   "outputs": [
    {
     "name": "stdout",
     "output_type": "stream",
     "text": [
      "Word                     True                     \t Pred\n",
      "\n",
      "----------------------------------------------------------------------\n",
      "Printer                  Operator error           \tSoftware  \n",
      "Printer                  Software                 \tSoftware  \n",
      "Printer                  Other                    \tSoftware  \n",
      "Printer                  Infra grp - hardware     \tSoftware  \n",
      "Scanner                  Infra grp - hardware     \tOther     \n",
      "Printer                  Software                 \tOther     \n",
      "Scanner                  Unknown                  \tOther     \n",
      "Scanner                  Other                    \tOther     \n",
      "Printer                  User error               \tOther     \n",
      "Scanner                  Software                 \tOther     \n",
      "Scanner                  Infra grp - hardware     \tOther     \n",
      "Scanner                  Software                 \tOther     \n",
      "Printer                  Software                 \tSoftware  \n",
      "Scanner                  Other                    \tOther     \n",
      "Printer                  Unknown                  \tSoftware  \n",
      "Scanner                  Software                 \tOther     \n",
      "Printer                  Software                 \tSoftware  \n",
      "Scanner                  Software                 \tOther     \n",
      "Printer                  Software                 \tSoftware  \n",
      "Printer                  Software                 \tSoftware  \n",
      "Printer                  No error - works as designed\tSoftware  \n",
      "Printer                  Software                 \tOther     \n",
      "Number                   Operator error           \tSoftware  \n",
      "Printer                  Software                 \tOther     \n",
      "Scanner                  Infra grp - hardware     \tOther     \n",
      "Printer                  Software                 \tOther     \n",
      "Printer                  Other                    \tOther     \n",
      "Printer                  Software                 \tOther     \n",
      "Printer                  Software                 \tOther     \n",
      "Scanner                  Infra grp - hardware     \tOther     \n",
      "Scanner                  Other                    \tOther     \n",
      "Printer                  Infra grp - hardware     \tOther     \n",
      "Printer                  Other                    \tOther     \n",
      "Scanner                  No error - works as designed\tOther     \n",
      "Scanner                  Other                    \tOther     \n",
      "Printer                  Software                 \tOther     \n",
      "Scanner                  Other                    \tOther     \n",
      "Printer                  Software                 \tOther     \n",
      "Scanner                  Infra grp - hardware     \tOther     \n",
      "Scanner                  Other                    \tOther     \n",
      "Scanner                  Software                 \tOther     \n",
      "Scanner                  Infra grp - hardware     \tOther     \n",
      "Scanner                  Infra grp - hardware     \tOther     \n",
      "Scanner                  Infra grp - hardware     \tOther     \n",
      "Scanner                  Infra grp - hardware     \tOther     \n",
      "Scanner                  No error - works as designed\tOther     \n",
      "Scanner                  Unknown                  \tOther     \n",
      "Scanner                  Data                     \tOther     \n",
      "Scanner                  No error - works as designed\tOther     \n",
      "Scanner                  Data                     \tOther     \n"
     ]
    }
   ],
   "source": [
    "i = np.random.randint(0, x_test.shape[0])\n",
    "p = model.predict(np.array([x_test[i]]))\n",
    "p = np.argmax(p, axis=-1)\n",
    "\n",
    "y_true = np.argmax(np.array(y_test), axis=-1)[i]\n",
    "\n",
    "print('{:25}{:25}\\t {}\\n'.format('Word', 'True', 'Pred'))\n",
    "print('-'*70)\n",
    "for w, true, pred in zip(x_test[i], y_true, p[0]):\n",
    "    print('{:25}{:25}\\t{:10}'.format(words[w-1], tags[true], tags[pred]))"
   ]
  },
  {
   "cell_type": "code",
   "execution_count": null,
   "id": "fc4d2772",
   "metadata": {},
   "outputs": [],
   "source": []
  },
  {
   "cell_type": "code",
   "execution_count": null,
   "id": "c19a5def",
   "metadata": {},
   "outputs": [],
   "source": []
  },
  {
   "cell_type": "code",
   "execution_count": null,
   "id": "1b23c745",
   "metadata": {},
   "outputs": [],
   "source": []
  }
 ],
 "metadata": {
  "kernelspec": {
   "display_name": "Python 3 (ipykernel)",
   "language": "python",
   "name": "python3"
  },
  "language_info": {
   "codemirror_mode": {
    "name": "ipython",
    "version": 3
   },
   "file_extension": ".py",
   "mimetype": "text/x-python",
   "name": "python",
   "nbconvert_exporter": "python",
   "pygments_lexer": "ipython3",
   "version": "3.9.13"
  }
 },
 "nbformat": 4,
 "nbformat_minor": 5
}
