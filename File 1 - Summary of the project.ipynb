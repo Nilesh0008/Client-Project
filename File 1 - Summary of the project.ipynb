{
 "cells": [
  {
   "cell_type": "markdown",
   "id": "2d429bfd",
   "metadata": {},
   "source": [
    "## Project Summary"
   ]
  },
  {
   "cell_type": "markdown",
   "id": "f00a3a5a",
   "metadata": {},
   "source": [
    "### Requirement\n",
    "ABC Tech is an organisation operating in IT-enabled business segment over a decade. On an average ABC Tech receives 22-25k IT incidents/tickets, which are handled to best practice by ITIL framework with incident management, problem management, change management and configuration management processes. ABC Tech management is looking for ways to improve the incident management process as recent customer survey results shows that incident management is rated as poor. Machine learning looks prospective to improve ITSM processes through prediction and automation.\n",
    "\n",
    "They came up with 4 key areas, where Machine Learning can help ITSM processes in ABC Tech:\n",
    "\n",
    "(1)Predicting High Priority Tickets: To predict priority 1 & 2 tickets, so that they can take preventive measures or fix the problem before it surfaces.\n",
    "\n",
    "(2)Forecast the incident volume in different fields, quarterly and annual. So that they can be better prepared with resources and technology planning.\n",
    "\n",
    "(3)Auto tag the tickets with right priorities and right departments so that reassigning and related delay can be reduced.\n",
    "\n",
    "(4) Predict RFC (Request for change) and possible failure/misconfiguration of ITSM assets."
   ]
  },
  {
   "cell_type": "markdown",
   "id": "fb7cf0a8",
   "metadata": {},
   "source": [
    "### 1. Predicting High Priority Tickets:\n",
    "- To predict priority 1 & 2 tickets, so that they can take preventive measures or fix the problem before it surfaces.\n",
    "- Connected to dataset using Mysql and converting to CSV format\n",
    "- Exploratory Data Analysis and Feature Engineering\n",
    "- segragting with priority 1, 2\n",
    "- Using label encoder converting catogoerical to numerical and checking the correlation\n",
    "- Identify the independent and dependent variable\n",
    "- Splitting the dataset to Train and Test, Modelling using DT, RF,XG\n",
    "- We got prediction DT 85.63%, RF-86.54%, XGboost - 90.07%\n",
    "- Checking the accuracy of the model predicted. "
   ]
  },
  {
   "cell_type": "markdown",
   "id": "b7b740e2",
   "metadata": {},
   "source": [
    "### 2. Forecast the incident volume in different fields, qrt /yr\n",
    "- Read file for Incident_ID and Open Time\n",
    "- Coverting all the values in proper Datetime format\n",
    "- Autocorrelation plot\n",
    "- Using ARIMA - Forcast the future \n",
    "- Accuracy Metrics\n",
    "- Auto Arima Forecast\n",
    "- Residual plots of ARIMA mode"
   ]
  },
  {
   "cell_type": "markdown",
   "id": "bb3ee797",
   "metadata": {},
   "source": [
    "### 3. Auto tag the tickets with right priorities and right departments using NLP\n",
    "- Readfile, added with two more coloumn \n",
    "- Identifying critical cololumns for the said requirements\n",
    "- Retrieve sentences and corresponding tags\n",
    "- Define mappings between sentences and tags\n",
    "- Build and compile a Bidirectional LSTM model\n",
    "- Train the model\n",
    "- Evaluate Named Entity Recognition model\n",
    "- Predication of the word - True -pred.\n",
    "- Due to overfitting, the prediction is not accurate. "
   ]
  },
  {
   "cell_type": "markdown",
   "id": "d13115ab",
   "metadata": {},
   "source": [
    "### 4. Predict RFC (Request for change) and possible failure/misconfiguration of ITSM assets.\n",
    "- Readfile, replace and fill null values \n",
    "- label encoding\n",
    "- Correlation matrix\n",
    "- modeling using DT, RF,XG boost - we got prediction DT 98.61%, RF-99.32%, XGboost - 97.56%\n",
    "- Accuracy of model\n",
    "- Predication of the model "
   ]
  },
  {
   "cell_type": "markdown",
   "id": "c29a9bda",
   "metadata": {},
   "source": [
    "### Summary\n",
    "he project is done with the purpose of:\n",
    "\n",
    "Finding out factors which affects priority and training a model which accurately predicts it so that preventive measures can be taken for High Priority Tickets and reassigning can be reduced.\n",
    "Finding out factors which affect RFC and predicting it.\n",
    "Forecasting Incident Volume in the future so that they can be better prepared with resources and technology planning.\n",
    "The following steps are carried out:\n",
    "\n",
    "Importing the data, necessary libraries, & exploring the data to look for missing values.\n",
    "Selecting the features for analysis, label encoding the ordinal column and splitting the data into test & train.\n",
    "Training the data using algorithms like Support Vector Machine, Decision Tree, Random Forest, K-Nearest Neighbor, XGBoost Classifier and Artificial Neural Network and checking the accuracy to find out which algorithm is the best.\n",
    "Exporting the model with highest accuracy.\n",
    "For Incident Volume Forecasting, Ticket Opening Time is taken and Time Series Forecasting is used."
   ]
  },
  {
   "cell_type": "markdown",
   "id": "513d44cc",
   "metadata": {},
   "source": [
    "### Results\n",
    "\n",
    "For predicting Ticket Priority, Random Forest gives almost 98.5% accuracy. \n",
    "Predicting RFC accurately is not possible with this data. And Volume Forecasting is visualized with the help of Matplotlib throughout the year."
   ]
  }
 ],
 "metadata": {
  "kernelspec": {
   "display_name": "Python 3 (ipykernel)",
   "language": "python",
   "name": "python3"
  },
  "language_info": {
   "codemirror_mode": {
    "name": "ipython",
    "version": 3
   },
   "file_extension": ".py",
   "mimetype": "text/x-python",
   "name": "python",
   "nbconvert_exporter": "python",
   "pygments_lexer": "ipython3",
   "version": "3.9.13"
  }
 },
 "nbformat": 4,
 "nbformat_minor": 5
}
