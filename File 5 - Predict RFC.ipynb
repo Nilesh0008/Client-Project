{
 "cells": [
  {
   "cell_type": "markdown",
   "id": "8c60363e",
   "metadata": {},
   "source": [
    "## Import libraries"
   ]
  },
  {
   "cell_type": "code",
   "execution_count": 89,
   "id": "15df2c8a",
   "metadata": {},
   "outputs": [],
   "source": [
    "import pandas as pd\n",
    "import numpy as np\n",
    "import matplotlib.pyplot as plt\n",
    "import seaborn as sb \n",
    "import warnings\n",
    "warnings.filterwarnings('ignore')"
   ]
  },
  {
   "cell_type": "markdown",
   "id": "de73e175",
   "metadata": {},
   "source": [
    "## Read file"
   ]
  },
  {
   "cell_type": "code",
   "execution_count": 90,
   "id": "23074e1e",
   "metadata": {
    "scrolled": false
   },
   "outputs": [
    {
     "data": {
      "text/html": [
       "<div>\n",
       "<style scoped>\n",
       "    .dataframe tbody tr th:only-of-type {\n",
       "        vertical-align: middle;\n",
       "    }\n",
       "\n",
       "    .dataframe tbody tr th {\n",
       "        vertical-align: top;\n",
       "    }\n",
       "\n",
       "    .dataframe thead th {\n",
       "        text-align: right;\n",
       "    }\n",
       "</style>\n",
       "<table border=\"1\" class=\"dataframe\">\n",
       "  <thead>\n",
       "    <tr style=\"text-align: right;\">\n",
       "      <th></th>\n",
       "      <th>CI_Name</th>\n",
       "      <th>CI_Cat</th>\n",
       "      <th>CI_Subcat</th>\n",
       "      <th>WBS</th>\n",
       "      <th>Incident_ID</th>\n",
       "      <th>Status</th>\n",
       "      <th>Impact</th>\n",
       "      <th>Urgency</th>\n",
       "      <th>Priority</th>\n",
       "      <th>number_cnt</th>\n",
       "      <th>...</th>\n",
       "      <th>Reopen_Time</th>\n",
       "      <th>Resolved_Time</th>\n",
       "      <th>Close_Time</th>\n",
       "      <th>Handle_Time_hrs</th>\n",
       "      <th>Closure_Code</th>\n",
       "      <th>No_of_Related_Interactions</th>\n",
       "      <th>Related_Interaction</th>\n",
       "      <th>No_of_Related_Incidents</th>\n",
       "      <th>No_of_Related_Changes</th>\n",
       "      <th>Related_Change</th>\n",
       "    </tr>\n",
       "  </thead>\n",
       "  <tbody>\n",
       "    <tr>\n",
       "      <th>0</th>\n",
       "      <td>SUB000508</td>\n",
       "      <td>subapplication</td>\n",
       "      <td>Web Based Application</td>\n",
       "      <td>WBS000162</td>\n",
       "      <td>IM0000004</td>\n",
       "      <td>Closed</td>\n",
       "      <td>4</td>\n",
       "      <td>4</td>\n",
       "      <td>4.0</td>\n",
       "      <td>0.601292</td>\n",
       "      <td>...</td>\n",
       "      <td>NaN</td>\n",
       "      <td>04-11-2013 13:50</td>\n",
       "      <td>04-11-2013 13:51</td>\n",
       "      <td>3,87,16,91,111</td>\n",
       "      <td>Other</td>\n",
       "      <td>1.0</td>\n",
       "      <td>SD0000007</td>\n",
       "      <td>2.0</td>\n",
       "      <td>NaN</td>\n",
       "      <td>NaN</td>\n",
       "    </tr>\n",
       "    <tr>\n",
       "      <th>1</th>\n",
       "      <td>WBA000124</td>\n",
       "      <td>application</td>\n",
       "      <td>Web Based Application</td>\n",
       "      <td>WBS000088</td>\n",
       "      <td>IM0000005</td>\n",
       "      <td>Closed</td>\n",
       "      <td>3</td>\n",
       "      <td>3</td>\n",
       "      <td>3.0</td>\n",
       "      <td>0.415050</td>\n",
       "      <td>...</td>\n",
       "      <td>02-12-2013 12:31</td>\n",
       "      <td>02-12-2013 12:36</td>\n",
       "      <td>02-12-2013 12:36</td>\n",
       "      <td>4,35,47,86,389</td>\n",
       "      <td>Software</td>\n",
       "      <td>1.0</td>\n",
       "      <td>SD0000011</td>\n",
       "      <td>1.0</td>\n",
       "      <td>NaN</td>\n",
       "      <td>NaN</td>\n",
       "    </tr>\n",
       "    <tr>\n",
       "      <th>2</th>\n",
       "      <td>DTA000024</td>\n",
       "      <td>application</td>\n",
       "      <td>Desktop Application</td>\n",
       "      <td>WBS000092</td>\n",
       "      <td>IM0000006</td>\n",
       "      <td>Closed</td>\n",
       "      <td>NS</td>\n",
       "      <td>3</td>\n",
       "      <td>NaN</td>\n",
       "      <td>0.517551</td>\n",
       "      <td>...</td>\n",
       "      <td>NaN</td>\n",
       "      <td>13-01-2014 15:12</td>\n",
       "      <td>13-01-2014 15:13</td>\n",
       "      <td>4,84,31,19,444</td>\n",
       "      <td>No error - works as designed</td>\n",
       "      <td>1.0</td>\n",
       "      <td>SD0000017</td>\n",
       "      <td>NaN</td>\n",
       "      <td>NaN</td>\n",
       "      <td>NaN</td>\n",
       "    </tr>\n",
       "    <tr>\n",
       "      <th>3</th>\n",
       "      <td>WBA000124</td>\n",
       "      <td>application</td>\n",
       "      <td>Web Based Application</td>\n",
       "      <td>WBS000088</td>\n",
       "      <td>IM0000011</td>\n",
       "      <td>Closed</td>\n",
       "      <td>4</td>\n",
       "      <td>4</td>\n",
       "      <td>4.0</td>\n",
       "      <td>0.642927</td>\n",
       "      <td>...</td>\n",
       "      <td>NaN</td>\n",
       "      <td>14-11-2013 09:31</td>\n",
       "      <td>14-11-2013 09:31</td>\n",
       "      <td>4,32,18,33,333</td>\n",
       "      <td>Operator error</td>\n",
       "      <td>1.0</td>\n",
       "      <td>SD0000025</td>\n",
       "      <td>NaN</td>\n",
       "      <td>NaN</td>\n",
       "      <td>NaN</td>\n",
       "    </tr>\n",
       "    <tr>\n",
       "      <th>4</th>\n",
       "      <td>WBA000124</td>\n",
       "      <td>application</td>\n",
       "      <td>Web Based Application</td>\n",
       "      <td>WBS000088</td>\n",
       "      <td>IM0000012</td>\n",
       "      <td>Closed</td>\n",
       "      <td>4</td>\n",
       "      <td>4</td>\n",
       "      <td>4.0</td>\n",
       "      <td>0.345258</td>\n",
       "      <td>...</td>\n",
       "      <td>NaN</td>\n",
       "      <td>08-11-2013 13:55</td>\n",
       "      <td>08-11-2013 13:55</td>\n",
       "      <td>3,38,39,03,333</td>\n",
       "      <td>Other</td>\n",
       "      <td>1.0</td>\n",
       "      <td>SD0000029</td>\n",
       "      <td>NaN</td>\n",
       "      <td>NaN</td>\n",
       "      <td>NaN</td>\n",
       "    </tr>\n",
       "  </tbody>\n",
       "</table>\n",
       "<p>5 rows × 25 columns</p>\n",
       "</div>"
      ],
      "text/plain": [
       "     CI_Name          CI_Cat              CI_Subcat        WBS Incident_ID  \\\n",
       "0  SUB000508  subapplication  Web Based Application  WBS000162   IM0000004   \n",
       "1  WBA000124     application  Web Based Application  WBS000088   IM0000005   \n",
       "2  DTA000024     application    Desktop Application  WBS000092   IM0000006   \n",
       "3  WBA000124     application  Web Based Application  WBS000088   IM0000011   \n",
       "4  WBA000124     application  Web Based Application  WBS000088   IM0000012   \n",
       "\n",
       "   Status Impact Urgency  Priority  number_cnt  ...       Reopen_Time  \\\n",
       "0  Closed      4       4       4.0    0.601292  ...               NaN   \n",
       "1  Closed      3       3       3.0    0.415050  ...  02-12-2013 12:31   \n",
       "2  Closed     NS       3       NaN    0.517551  ...               NaN   \n",
       "3  Closed      4       4       4.0    0.642927  ...               NaN   \n",
       "4  Closed      4       4       4.0    0.345258  ...               NaN   \n",
       "\n",
       "      Resolved_Time        Close_Time  Handle_Time_hrs  \\\n",
       "0  04-11-2013 13:50  04-11-2013 13:51   3,87,16,91,111   \n",
       "1  02-12-2013 12:36  02-12-2013 12:36   4,35,47,86,389   \n",
       "2  13-01-2014 15:12  13-01-2014 15:13   4,84,31,19,444   \n",
       "3  14-11-2013 09:31  14-11-2013 09:31   4,32,18,33,333   \n",
       "4  08-11-2013 13:55  08-11-2013 13:55   3,38,39,03,333   \n",
       "\n",
       "                   Closure_Code No_of_Related_Interactions  \\\n",
       "0                         Other                        1.0   \n",
       "1                      Software                        1.0   \n",
       "2  No error - works as designed                        1.0   \n",
       "3                Operator error                        1.0   \n",
       "4                         Other                        1.0   \n",
       "\n",
       "  Related_Interaction No_of_Related_Incidents No_of_Related_Changes  \\\n",
       "0           SD0000007                     2.0                   NaN   \n",
       "1           SD0000011                     1.0                   NaN   \n",
       "2           SD0000017                     NaN                   NaN   \n",
       "3           SD0000025                     NaN                   NaN   \n",
       "4           SD0000029                     NaN                   NaN   \n",
       "\n",
       "  Related_Change  \n",
       "0            NaN  \n",
       "1            NaN  \n",
       "2            NaN  \n",
       "3            NaN  \n",
       "4            NaN  \n",
       "\n",
       "[5 rows x 25 columns]"
      ]
     },
     "execution_count": 90,
     "metadata": {},
     "output_type": "execute_result"
    }
   ],
   "source": [
    "data = pd.read_csv('dataset_list.csv')\n",
    "data.head()"
   ]
  },
  {
   "cell_type": "code",
   "execution_count": 91,
   "id": "60b023e2",
   "metadata": {},
   "outputs": [
    {
     "name": "stdout",
     "output_type": "stream",
     "text": [
      "<class 'pandas.core.frame.DataFrame'>\n",
      "RangeIndex: 46606 entries, 0 to 46605\n",
      "Data columns (total 25 columns):\n",
      " #   Column                      Non-Null Count  Dtype  \n",
      "---  ------                      --------------  -----  \n",
      " 0   CI_Name                     46606 non-null  object \n",
      " 1   CI_Cat                      46495 non-null  object \n",
      " 2   CI_Subcat                   46495 non-null  object \n",
      " 3   WBS                         46606 non-null  object \n",
      " 4   Incident_ID                 46606 non-null  object \n",
      " 5   Status                      46606 non-null  object \n",
      " 6   Impact                      46606 non-null  object \n",
      " 7   Urgency                     46606 non-null  object \n",
      " 8   Priority                    45226 non-null  float64\n",
      " 9   number_cnt                  46606 non-null  float64\n",
      " 10  Category                    46606 non-null  object \n",
      " 11  KB_number                   46606 non-null  object \n",
      " 12  Alert_Status                46606 non-null  object \n",
      " 13  No_of_Reassignments         46605 non-null  float64\n",
      " 14  Open_Time                   46606 non-null  object \n",
      " 15  Reopen_Time                 2284 non-null   object \n",
      " 16  Resolved_Time               44826 non-null  object \n",
      " 17  Close_Time                  46606 non-null  object \n",
      " 18  Handle_Time_hrs             46605 non-null  object \n",
      " 19  Closure_Code                46146 non-null  object \n",
      " 20  No_of_Related_Interactions  46492 non-null  float64\n",
      " 21  Related_Interaction         46606 non-null  object \n",
      " 22  No_of_Related_Incidents     1222 non-null   float64\n",
      " 23  No_of_Related_Changes       560 non-null    float64\n",
      " 24  Related_Change              560 non-null    object \n",
      "dtypes: float64(6), object(19)\n",
      "memory usage: 8.9+ MB\n"
     ]
    }
   ],
   "source": [
    "data.info()"
   ]
  },
  {
   "cell_type": "code",
   "execution_count": 92,
   "id": "f96cfd83",
   "metadata": {},
   "outputs": [
    {
     "data": {
      "text/html": [
       "<div>\n",
       "<style scoped>\n",
       "    .dataframe tbody tr th:only-of-type {\n",
       "        vertical-align: middle;\n",
       "    }\n",
       "\n",
       "    .dataframe tbody tr th {\n",
       "        vertical-align: top;\n",
       "    }\n",
       "\n",
       "    .dataframe thead th {\n",
       "        text-align: right;\n",
       "    }\n",
       "</style>\n",
       "<table border=\"1\" class=\"dataframe\">\n",
       "  <thead>\n",
       "    <tr style=\"text-align: right;\">\n",
       "      <th></th>\n",
       "      <th>Priority</th>\n",
       "      <th>number_cnt</th>\n",
       "      <th>No_of_Reassignments</th>\n",
       "      <th>No_of_Related_Interactions</th>\n",
       "      <th>No_of_Related_Incidents</th>\n",
       "      <th>No_of_Related_Changes</th>\n",
       "    </tr>\n",
       "  </thead>\n",
       "  <tbody>\n",
       "    <tr>\n",
       "      <th>count</th>\n",
       "      <td>45226.000000</td>\n",
       "      <td>46606.000000</td>\n",
       "      <td>46605.000000</td>\n",
       "      <td>46492.000000</td>\n",
       "      <td>1222.000000</td>\n",
       "      <td>560.000000</td>\n",
       "    </tr>\n",
       "    <tr>\n",
       "      <th>mean</th>\n",
       "      <td>4.215805</td>\n",
       "      <td>0.499658</td>\n",
       "      <td>1.131831</td>\n",
       "      <td>1.149897</td>\n",
       "      <td>1.669394</td>\n",
       "      <td>1.058929</td>\n",
       "    </tr>\n",
       "    <tr>\n",
       "      <th>std</th>\n",
       "      <td>0.705624</td>\n",
       "      <td>0.288634</td>\n",
       "      <td>2.269774</td>\n",
       "      <td>2.556338</td>\n",
       "      <td>3.339687</td>\n",
       "      <td>0.403596</td>\n",
       "    </tr>\n",
       "    <tr>\n",
       "      <th>min</th>\n",
       "      <td>1.000000</td>\n",
       "      <td>0.000023</td>\n",
       "      <td>0.000000</td>\n",
       "      <td>1.000000</td>\n",
       "      <td>1.000000</td>\n",
       "      <td>1.000000</td>\n",
       "    </tr>\n",
       "    <tr>\n",
       "      <th>25%</th>\n",
       "      <td>4.000000</td>\n",
       "      <td>0.248213</td>\n",
       "      <td>0.000000</td>\n",
       "      <td>1.000000</td>\n",
       "      <td>1.000000</td>\n",
       "      <td>1.000000</td>\n",
       "    </tr>\n",
       "    <tr>\n",
       "      <th>50%</th>\n",
       "      <td>4.000000</td>\n",
       "      <td>0.500269</td>\n",
       "      <td>0.000000</td>\n",
       "      <td>1.000000</td>\n",
       "      <td>1.000000</td>\n",
       "      <td>1.000000</td>\n",
       "    </tr>\n",
       "    <tr>\n",
       "      <th>75%</th>\n",
       "      <td>5.000000</td>\n",
       "      <td>0.749094</td>\n",
       "      <td>2.000000</td>\n",
       "      <td>1.000000</td>\n",
       "      <td>1.000000</td>\n",
       "      <td>1.000000</td>\n",
       "    </tr>\n",
       "    <tr>\n",
       "      <th>max</th>\n",
       "      <td>5.000000</td>\n",
       "      <td>0.999997</td>\n",
       "      <td>46.000000</td>\n",
       "      <td>370.000000</td>\n",
       "      <td>63.000000</td>\n",
       "      <td>9.000000</td>\n",
       "    </tr>\n",
       "  </tbody>\n",
       "</table>\n",
       "</div>"
      ],
      "text/plain": [
       "           Priority    number_cnt  No_of_Reassignments  \\\n",
       "count  45226.000000  46606.000000         46605.000000   \n",
       "mean       4.215805      0.499658             1.131831   \n",
       "std        0.705624      0.288634             2.269774   \n",
       "min        1.000000      0.000023             0.000000   \n",
       "25%        4.000000      0.248213             0.000000   \n",
       "50%        4.000000      0.500269             0.000000   \n",
       "75%        5.000000      0.749094             2.000000   \n",
       "max        5.000000      0.999997            46.000000   \n",
       "\n",
       "       No_of_Related_Interactions  No_of_Related_Incidents  \\\n",
       "count                46492.000000              1222.000000   \n",
       "mean                     1.149897                 1.669394   \n",
       "std                      2.556338                 3.339687   \n",
       "min                      1.000000                 1.000000   \n",
       "25%                      1.000000                 1.000000   \n",
       "50%                      1.000000                 1.000000   \n",
       "75%                      1.000000                 1.000000   \n",
       "max                    370.000000                63.000000   \n",
       "\n",
       "       No_of_Related_Changes  \n",
       "count             560.000000  \n",
       "mean                1.058929  \n",
       "std                 0.403596  \n",
       "min                 1.000000  \n",
       "25%                 1.000000  \n",
       "50%                 1.000000  \n",
       "75%                 1.000000  \n",
       "max                 9.000000  "
      ]
     },
     "execution_count": 92,
     "metadata": {},
     "output_type": "execute_result"
    }
   ],
   "source": [
    "data.describe()"
   ]
  },
  {
   "cell_type": "code",
   "execution_count": 93,
   "id": "4c6129f5",
   "metadata": {},
   "outputs": [
    {
     "data": {
      "text/plain": [
       "CI_Name                           0\n",
       "CI_Cat                          111\n",
       "CI_Subcat                       111\n",
       "WBS                               0\n",
       "Incident_ID                       0\n",
       "Status                            0\n",
       "Impact                            0\n",
       "Urgency                           0\n",
       "Priority                       1380\n",
       "number_cnt                        0\n",
       "Category                          0\n",
       "KB_number                         0\n",
       "Alert_Status                      0\n",
       "No_of_Reassignments               1\n",
       "Open_Time                         0\n",
       "Reopen_Time                   44322\n",
       "Resolved_Time                  1780\n",
       "Close_Time                        0\n",
       "Handle_Time_hrs                   1\n",
       "Closure_Code                    460\n",
       "No_of_Related_Interactions      114\n",
       "Related_Interaction               0\n",
       "No_of_Related_Incidents       45384\n",
       "No_of_Related_Changes         46046\n",
       "Related_Change                46046\n",
       "dtype: int64"
      ]
     },
     "execution_count": 93,
     "metadata": {},
     "output_type": "execute_result"
    }
   ],
   "source": [
    "data.isnull().sum()"
   ]
  },
  {
   "cell_type": "markdown",
   "id": "b15312f4",
   "metadata": {},
   "source": [
    "## Replace value"
   ]
  },
  {
   "cell_type": "code",
   "execution_count": 94,
   "id": "38be7154",
   "metadata": {},
   "outputs": [],
   "source": [
    "f = lambda x: x.mode().iat[0] if x.notna().any() else np.nan\n",
    "\n",
    "data['CI_Cat'] = data['CI_Cat'].fillna(data.groupby('Urgency')['CI_Cat'].transform(f))\n",
    "data['CI_Subcat'] = data['CI_Subcat'].fillna(data.groupby('CI_Cat')['CI_Subcat'].transform(f))"
   ]
  },
  {
   "cell_type": "code",
   "execution_count": 95,
   "id": "9b541f3d",
   "metadata": {},
   "outputs": [],
   "source": [
    "data['Impact'] = data['Impact'].replace('NS', data['Impact'].mode()[0])\n",
    "data['Priority'] = data['Priority'].fillna(data.groupby(['Impact','Urgency'])['Priority'].transform(f))"
   ]
  },
  {
   "cell_type": "code",
   "execution_count": 96,
   "id": "3a9addfb",
   "metadata": {},
   "outputs": [],
   "source": [
    "data['No_of_Reassignments'] = data['No_of_Reassignments'].fillna(data.groupby('CI_Subcat')['No_of_Reassignments'].transform(f))\n",
    "data['No_of_Related_Interactions'] = data['No_of_Related_Interactions'].fillna(data.groupby('CI_Subcat')['No_of_Related_Interactions'].transform(f))\n",
    "data['No_of_Related_Incidents'] = data['No_of_Related_Incidents'].fillna(data.groupby('CI_Subcat')['No_of_Related_Incidents'].transform(f))\n",
    "data['No_of_Related_Changes'] = data['No_of_Related_Changes'].fillna(data.groupby('CI_Subcat')['No_of_Related_Changes'].transform(f))\n",
    "data['Closure_Code'] = data['Closure_Code'].fillna(data.groupby('CI_Subcat')['Closure_Code'].transform(f))\n",
    "data['Related_Change'] = data['Related_Change'].fillna(data.groupby('CI_Subcat')['Related_Change'].transform(f))"
   ]
  },
  {
   "cell_type": "code",
   "execution_count": 97,
   "id": "70ce5e45",
   "metadata": {},
   "outputs": [
    {
     "data": {
      "text/plain": [
       "CI_Name                           0\n",
       "CI_Cat                            0\n",
       "CI_Subcat                         0\n",
       "WBS                               0\n",
       "Incident_ID                       0\n",
       "Status                            0\n",
       "Impact                            0\n",
       "Urgency                           0\n",
       "Priority                          0\n",
       "number_cnt                        0\n",
       "Category                          0\n",
       "KB_number                         0\n",
       "Alert_Status                      0\n",
       "No_of_Reassignments               0\n",
       "Open_Time                         0\n",
       "Reopen_Time                   44322\n",
       "Resolved_Time                  1780\n",
       "Close_Time                        0\n",
       "Handle_Time_hrs                   1\n",
       "Closure_Code                      0\n",
       "No_of_Related_Interactions        0\n",
       "Related_Interaction               0\n",
       "No_of_Related_Incidents         712\n",
       "No_of_Related_Changes          4334\n",
       "Related_Change                 4334\n",
       "dtype: int64"
      ]
     },
     "execution_count": 97,
     "metadata": {},
     "output_type": "execute_result"
    }
   ],
   "source": [
    "data.isnull().sum()"
   ]
  },
  {
   "cell_type": "code",
   "execution_count": 98,
   "id": "3dc91153",
   "metadata": {},
   "outputs": [],
   "source": [
    "from collections import Counter"
   ]
  },
  {
   "cell_type": "code",
   "execution_count": 99,
   "id": "d075e8fb",
   "metadata": {},
   "outputs": [
    {
     "data": {
      "text/plain": [
       "[(1.0, 45719), (2.0, 74), (3.0, 20)]"
      ]
     },
     "execution_count": 99,
     "metadata": {},
     "output_type": "execute_result"
    }
   ],
   "source": [
    "Counter(data.No_of_Related_Incidents).most_common(3)"
   ]
  },
  {
   "cell_type": "code",
   "execution_count": 100,
   "id": "56a257f9",
   "metadata": {},
   "outputs": [],
   "source": [
    "data.No_of_Related_Incidents.replace(np.nan,1,inplace=True)"
   ]
  },
  {
   "cell_type": "code",
   "execution_count": 101,
   "id": "57ef104f",
   "metadata": {},
   "outputs": [
    {
     "data": {
      "text/plain": [
       "[(1.0, 42248), (2.0, 21), (3.0, 2)]"
      ]
     },
     "execution_count": 101,
     "metadata": {},
     "output_type": "execute_result"
    }
   ],
   "source": [
    "Counter(data.No_of_Related_Changes).most_common(3)"
   ]
  },
  {
   "cell_type": "code",
   "execution_count": 102,
   "id": "3a732a5b",
   "metadata": {},
   "outputs": [],
   "source": [
    "data.No_of_Related_Changes.replace(np.nan,1,inplace=True)"
   ]
  },
  {
   "cell_type": "code",
   "execution_count": 103,
   "id": "a49f9d4b",
   "metadata": {},
   "outputs": [
    {
     "data": {
      "text/plain": [
       "[('C00003013', 33921), ('C00014762', 5051), ('C00004739', 1926)]"
      ]
     },
     "execution_count": 103,
     "metadata": {},
     "output_type": "execute_result"
    }
   ],
   "source": [
    "Counter(data.Related_Change).most_common(3)"
   ]
  },
  {
   "cell_type": "code",
   "execution_count": 104,
   "id": "08aaa6c9",
   "metadata": {},
   "outputs": [],
   "source": [
    "data.Related_Change.replace(np.nan,'C00003013',inplace=True)"
   ]
  },
  {
   "cell_type": "code",
   "execution_count": 105,
   "id": "6ce2ad8c",
   "metadata": {},
   "outputs": [
    {
     "data": {
      "text/plain": [
       "CI_Name                           0\n",
       "CI_Cat                            0\n",
       "CI_Subcat                         0\n",
       "WBS                               0\n",
       "Incident_ID                       0\n",
       "Status                            0\n",
       "Impact                            0\n",
       "Urgency                           0\n",
       "Priority                          0\n",
       "number_cnt                        0\n",
       "Category                          0\n",
       "KB_number                         0\n",
       "Alert_Status                      0\n",
       "No_of_Reassignments               0\n",
       "Open_Time                         0\n",
       "Reopen_Time                   44322\n",
       "Resolved_Time                  1780\n",
       "Close_Time                        0\n",
       "Handle_Time_hrs                   1\n",
       "Closure_Code                      0\n",
       "No_of_Related_Interactions        0\n",
       "Related_Interaction               0\n",
       "No_of_Related_Incidents           0\n",
       "No_of_Related_Changes             0\n",
       "Related_Change                    0\n",
       "dtype: int64"
      ]
     },
     "execution_count": 105,
     "metadata": {},
     "output_type": "execute_result"
    }
   ],
   "source": [
    "data.isnull().sum()"
   ]
  },
  {
   "cell_type": "code",
   "execution_count": 106,
   "id": "f03376e4",
   "metadata": {},
   "outputs": [
    {
     "data": {
      "text/plain": [
       "<AxesSubplot:xlabel='No_of_Related_Incidents'>"
      ]
     },
     "execution_count": 106,
     "metadata": {},
     "output_type": "execute_result"
    },
    {
     "data": {
      "image/png": "[encoded data removed]",
      "text/plain": [
       "<Figure size 432x288 with 1 Axes>"
      ]
     },
     "metadata": {
      "needs_background": "light"
     },
     "output_type": "display_data"
    }
   ],
   "source": [
    "sb.boxplot(data[\"No_of_Related_Incidents\"])"
   ]
  },
  {
   "cell_type": "code",
   "execution_count": 107,
   "id": "a10cd80e",
   "metadata": {},
   "outputs": [
    {
     "data": {
      "text/plain": [
       "<AxesSubplot:xlabel='No_of_Related_Interactions'>"
      ]
     },
     "execution_count": 107,
     "metadata": {},
     "output_type": "execute_result"
    },
    {
     "data": {
      "image/png": "[encoded data removed]",
      "text/plain": [
       "<Figure size 432x288 with 1 Axes>"
      ]
     },
     "metadata": {
      "needs_background": "light"
     },
     "output_type": "display_data"
    }
   ],
   "source": [
    "sb.boxplot(data[\"No_of_Related_Interactions\"])"
   ]
  },
  {
   "cell_type": "markdown",
   "id": "051ba9fb",
   "metadata": {},
   "source": [
    "## Label Encoder"
   ]
  },
  {
   "cell_type": "code",
   "execution_count": 108,
   "id": "42941e6e",
   "metadata": {},
   "outputs": [],
   "source": [
    "from sklearn.preprocessing import LabelEncoder\n",
    "enc=LabelEncoder()\n",
    "data.CI_Cat = enc.fit_transform(data.CI_Cat)\n",
    "data.CI_Subcat = enc.fit_transform(data.CI_Subcat)\n",
    "data.WBS = enc.fit_transform(data.WBS)\n",
    "data.Category = enc.fit_transform(data.Category)\n",
    "data.Closure_Code = enc.fit_transform(data.Closure_Code)\n",
    "data.KB_number = enc.fit_transform(data.KB_number)\n",
    "data.Related_Interaction = enc.fit_transform(data.Related_Interaction)\n",
    "data.Related_Change = enc.fit_transform(data.Related_Change)"
   ]
  },
  {
   "cell_type": "code",
   "execution_count": 109,
   "id": "ec83871d",
   "metadata": {},
   "outputs": [
    {
     "data": {
      "text/html": [
       "<div>\n",
       "<style scoped>\n",
       "    .dataframe tbody tr th:only-of-type {\n",
       "        vertical-align: middle;\n",
       "    }\n",
       "\n",
       "    .dataframe tbody tr th {\n",
       "        vertical-align: top;\n",
       "    }\n",
       "\n",
       "    .dataframe thead th {\n",
       "        text-align: right;\n",
       "    }\n",
       "</style>\n",
       "<table border=\"1\" class=\"dataframe\">\n",
       "  <thead>\n",
       "    <tr style=\"text-align: right;\">\n",
       "      <th></th>\n",
       "      <th>CI_Cat</th>\n",
       "      <th>CI_Subcat</th>\n",
       "      <th>WBS</th>\n",
       "      <th>Priority</th>\n",
       "      <th>No_of_Related_Interactions</th>\n",
       "      <th>No_of_Related_Incidents</th>\n",
       "      <th>Related_Interaction</th>\n",
       "      <th>KB_number</th>\n",
       "      <th>number_cnt</th>\n",
       "      <th>Closure_Code</th>\n",
       "      <th>No_of_Related_Changes</th>\n",
       "      <th>Related_Change</th>\n",
       "    </tr>\n",
       "  </thead>\n",
       "  <tbody>\n",
       "    <tr>\n",
       "      <th>0</th>\n",
       "      <td>11</td>\n",
       "      <td>57</td>\n",
       "      <td>137</td>\n",
       "      <td>4.0</td>\n",
       "      <td>1.0</td>\n",
       "      <td>2.0</td>\n",
       "      <td>2</td>\n",
       "      <td>413</td>\n",
       "      <td>0.601292</td>\n",
       "      <td>6</td>\n",
       "      <td>1.0</td>\n",
       "      <td>54</td>\n",
       "    </tr>\n",
       "    <tr>\n",
       "      <th>1</th>\n",
       "      <td>1</td>\n",
       "      <td>57</td>\n",
       "      <td>70</td>\n",
       "      <td>3.0</td>\n",
       "      <td>1.0</td>\n",
       "      <td>1.0</td>\n",
       "      <td>3</td>\n",
       "      <td>456</td>\n",
       "      <td>0.415050</td>\n",
       "      <td>10</td>\n",
       "      <td>1.0</td>\n",
       "      <td>54</td>\n",
       "    </tr>\n",
       "  </tbody>\n",
       "</table>\n",
       "</div>"
      ],
      "text/plain": [
       "   CI_Cat  CI_Subcat  WBS  Priority  No_of_Related_Interactions  \\\n",
       "0      11         57  137       4.0                         1.0   \n",
       "1       1         57   70       3.0                         1.0   \n",
       "\n",
       "   No_of_Related_Incidents  Related_Interaction  KB_number  number_cnt  \\\n",
       "0                      2.0                    2        413    0.601292   \n",
       "1                      1.0                    3        456    0.415050   \n",
       "\n",
       "   Closure_Code  No_of_Related_Changes  Related_Change  \n",
       "0             6                    1.0              54  \n",
       "1            10                    1.0              54  "
      ]
     },
     "execution_count": 109,
     "metadata": {},
     "output_type": "execute_result"
    }
   ],
   "source": [
    "n = data.loc[:,['CI_Cat','CI_Subcat','WBS','Priority','No_of_Related_Interactions','No_of_Related_Incidents','Related_Interaction','KB_number','number_cnt','Closure_Code','No_of_Related_Changes','Related_Change']]\n",
    "n.head(2)"
   ]
  },
  {
   "cell_type": "markdown",
   "id": "52187d11",
   "metadata": {},
   "source": [
    "## Correlation matrix"
   ]
  },
  {
   "cell_type": "code",
   "execution_count": 110,
   "id": "a434e5ef",
   "metadata": {},
   "outputs": [
    {
     "data": {
      "text/plain": [
       "<AxesSubplot:>"
      ]
     },
     "execution_count": 110,
     "metadata": {},
     "output_type": "execute_result"
    },
    {
     "data": {
      "image/png": "[encoded data removed]",
      "text/plain": [
       "<Figure size 1080x720 with 2 Axes>"
      ]
     },
     "metadata": {
      "needs_background": "light"
     },
     "output_type": "display_data"
    }
   ],
   "source": [
    "corrmatrix=n.corr()\n",
    "plt.figure(figsize=(15,10))\n",
    "sb.heatmap(corrmatrix,linewidths=0.8,linecolor='blue',cmap=\"YlGnBu\",annot=True, fmt=\".2f\", annot_kws={\"size\":20})"
   ]
  },
  {
   "cell_type": "code",
   "execution_count": 111,
   "id": "f96cac63",
   "metadata": {},
   "outputs": [
    {
     "data": {
      "text/plain": [
       "Related_Change                1.000000\n",
       "Closure_Code                  0.061795\n",
       "WBS                           0.051611\n",
       "KB_number                     0.033510\n",
       "No_of_Related_Interactions    0.010921\n",
       "No_of_Related_Incidents       0.004893\n",
       "number_cnt                    0.003444\n",
       "Related_Interaction          -0.009006\n",
       "No_of_Related_Changes        -0.024978\n",
       "Priority                     -0.032341\n",
       "No_of_Reassignments          -0.051822\n",
       "Category                     -0.115578\n",
       "CI_Cat                       -0.119574\n",
       "CI_Subcat                    -0.688407\n",
       "Name: Related_Change, dtype: float64"
      ]
     },
     "execution_count": 111,
     "metadata": {},
     "output_type": "execute_result"
    }
   ],
   "source": [
    "corr_matrix = data.corr()\n",
    "corr_matrix[\"Related_Change\"].sort_values(ascending=False)"
   ]
  },
  {
   "cell_type": "markdown",
   "id": "eb990167",
   "metadata": {},
   "source": [
    "## Identify the independent and dependent variable"
   ]
  },
  {
   "cell_type": "code",
   "execution_count": 112,
   "id": "fb2f7c46",
   "metadata": {},
   "outputs": [],
   "source": [
    "X = data.loc[:,['CI_Cat','CI_Subcat','WBS','Priority','No_of_Related_Interactions','No_of_Related_Incidents','Related_Interaction','KB_number','number_cnt','Closure_Code','No_of_Related_Changes']]\n",
    "y = data.Related_Change"
   ]
  },
  {
   "cell_type": "markdown",
   "id": "b608027e",
   "metadata": {},
   "source": [
    "## Splitting the dataset to Train and Test"
   ]
  },
  {
   "cell_type": "code",
   "execution_count": 113,
   "id": "cb638095",
   "metadata": {},
   "outputs": [],
   "source": [
    "from sklearn.model_selection import train_test_split\n",
    "X_train, X_test, y_train, y_test = train_test_split(X,y,test_size = 0.2, random_state = 0)"
   ]
  },
  {
   "cell_type": "code",
   "execution_count": 114,
   "id": "9878a2be",
   "metadata": {},
   "outputs": [],
   "source": [
    "from sklearn.preprocessing import StandardScaler\n",
    "sc = StandardScaler()\n",
    "X_train = sc.fit_transform(X_train)\n",
    "X_test = sc.transform(X_test)"
   ]
  },
  {
   "cell_type": "markdown",
   "id": "29b2205d",
   "metadata": {},
   "source": [
    "## Modeling"
   ]
  },
  {
   "cell_type": "code",
   "execution_count": 115,
   "id": "f9df7b00",
   "metadata": {},
   "outputs": [],
   "source": [
    "from sklearn.tree import DecisionTreeClassifier\n",
    "from sklearn.ensemble import RandomForestClassifier\n",
    "from xgboost import XGBClassifier\n",
    "\n",
    "from sklearn.metrics import accuracy_score,confusion_matrix,classification_report"
   ]
  },
  {
   "cell_type": "markdown",
   "id": "0b174e67",
   "metadata": {},
   "source": [
    "## Decision Tree Algorithm"
   ]
  },
  {
   "cell_type": "code",
   "execution_count": 116,
   "id": "76c70e0c",
   "metadata": {
    "scrolled": true
   },
   "outputs": [
    {
     "name": "stdout",
     "output_type": "stream",
     "text": [
      "accuracy of Decision Tree: 98.61\n",
      "Confusion_matrix :\n",
      "[[4 0 0 ... 0 0 0]\n",
      " [0 0 0 ... 0 0 0]\n",
      " [0 0 0 ... 0 0 0]\n",
      " ...\n",
      " [0 0 0 ... 0 0 0]\n",
      " [0 0 0 ... 0 0 0]\n",
      " [0 0 0 ... 0 0 1]]\n",
      "Classification_report :\n",
      "              precision    recall  f1-score   support\n",
      "\n",
      "           0       1.00      0.80      0.89         5\n",
      "           3       0.00      0.00      0.00         0\n",
      "           7       0.00      0.00      0.00         0\n",
      "           9       1.00      1.00      1.00        31\n",
      "          10       0.00      0.00      0.00         0\n",
      "          11       0.00      0.00      0.00         1\n",
      "          13       0.00      0.00      0.00         0\n",
      "          14       1.00      1.00      1.00         6\n",
      "          15       0.00      0.00      0.00         0\n",
      "          16       0.00      0.00      0.00         1\n",
      "          18       1.00      0.33      0.50         3\n",
      "          19       0.00      0.00      0.00         0\n",
      "          20       0.00      0.00      0.00         0\n",
      "          21       0.00      0.00      0.00         0\n",
      "          23       0.50      0.50      0.50         2\n",
      "          24       0.00      0.00      0.00         0\n",
      "          25       0.00      0.00      0.00         1\n",
      "          26       1.00      1.00      1.00         7\n",
      "          31       0.00      0.00      0.00         0\n",
      "          32       0.00      0.00      0.00         1\n",
      "          33       1.00      1.00      1.00         3\n",
      "          34       0.00      0.00      0.00         0\n",
      "          35       0.00      0.00      0.00         0\n",
      "          38       0.00      0.00      0.00         1\n",
      "          42       0.00      0.00      0.00         0\n",
      "          44       0.00      0.00      0.00         0\n",
      "          45       1.00      0.67      0.80         3\n",
      "          46       0.00      0.00      0.00         0\n",
      "          48       0.00      0.00      0.00         1\n",
      "          49       0.00      0.00      0.00         1\n",
      "          51       0.00      0.00      0.00         0\n",
      "          54       0.99      0.99      0.99      7625\n",
      "          57       0.00      0.00      0.00         1\n",
      "          58       0.00      0.00      0.00         1\n",
      "          60       0.00      0.00      0.00         0\n",
      "          62       0.00      0.00      0.00         0\n",
      "          63       0.00      0.00      0.00         0\n",
      "          64       0.00      0.00      0.00         0\n",
      "          65       0.00      0.00      0.00         1\n",
      "          67       1.00      1.00      1.00         4\n",
      "          69       0.00      0.00      0.00         0\n",
      "          71       0.00      0.00      0.00         1\n",
      "          73       1.00      1.00      1.00       403\n",
      "          76       0.00      0.00      0.00         0\n",
      "          79       0.00      0.00      0.00         0\n",
      "          85       0.00      0.00      0.00         0\n",
      "          87       0.00      0.00      0.00         1\n",
      "          89       0.00      0.00      0.00         1\n",
      "          91       0.00      0.00      0.00         0\n",
      "          92       0.92      0.92      0.92        13\n",
      "          94       0.00      0.00      0.00         1\n",
      "          97       0.00      0.00      0.00         1\n",
      "          98       0.00      0.00      0.00         1\n",
      "          99       0.00      0.00      0.00         1\n",
      "         102       0.00      0.00      0.00         1\n",
      "         103       0.00      0.00      0.00         1\n",
      "         104       0.91      1.00      0.95        10\n",
      "         106       0.00      0.00      0.00         1\n",
      "         107       0.00      0.00      0.00         0\n",
      "         108       0.00      0.00      0.00         0\n",
      "         110       0.00      0.00      0.00         1\n",
      "         111       0.00      0.00      0.00         0\n",
      "         113       0.00      0.00      0.00         1\n",
      "         115       0.00      0.00      0.00         0\n",
      "         120       0.00      0.00      0.00         1\n",
      "         122       0.00      0.00      0.00         0\n",
      "         126       0.00      0.00      0.00         1\n",
      "         127       0.00      0.00      0.00         1\n",
      "         128       0.00      0.00      0.00         1\n",
      "         131       0.00      0.00      0.00         1\n",
      "         132       0.00      0.00      0.00         1\n",
      "         134       0.00      0.00      0.00         0\n",
      "         135       0.00      0.00      0.00         2\n",
      "         137       0.00      0.00      0.00         1\n",
      "         142       0.00      0.00      0.00         1\n",
      "         146       0.00      0.00      0.00         1\n",
      "         147       0.00      0.00      0.00         1\n",
      "         151       0.00      0.00      0.00         1\n",
      "         155       0.00      0.00      0.00         1\n",
      "         161       1.00      1.00      1.00        42\n",
      "         163       0.00      0.00      0.00         0\n",
      "         164       0.00      0.00      0.00         0\n",
      "         165       0.98      0.98      0.98        52\n",
      "         167       0.00      0.00      0.00         0\n",
      "         168       0.00      0.00      0.00         1\n",
      "         169       0.00      0.00      0.00         1\n",
      "         174       0.00      0.00      0.00         1\n",
      "         176       0.00      0.00      0.00         1\n",
      "         178       0.00      0.00      0.00         1\n",
      "         179       0.00      0.00      0.00         1\n",
      "         182       0.00      0.00      0.00         1\n",
      "         183       0.95      1.00      0.97        19\n",
      "         185       0.00      0.00      0.00         0\n",
      "         188       0.00      0.00      0.00         0\n",
      "         194       1.00      1.00      1.00      1035\n",
      "         195       0.00      0.00      0.00         0\n",
      "         196       0.00      0.00      0.00         0\n",
      "         201       0.00      0.00      0.00         0\n",
      "         202       0.00      0.00      0.00         0\n",
      "         203       0.00      0.00      0.00         0\n",
      "         205       0.00      0.00      0.00         1\n",
      "         206       0.00      0.00      0.00         1\n",
      "         207       0.00      0.00      0.00         1\n",
      "         208       0.00      0.00      0.00         0\n",
      "         209       0.00      0.00      0.00         0\n",
      "         213       0.00      0.00      0.00         1\n",
      "         215       0.00      0.00      0.00         1\n",
      "         217       1.00      1.00      1.00         6\n",
      "         221       0.50      1.00      0.67         1\n",
      "         225       0.00      0.00      0.00         1\n",
      "         227       0.00      0.00      0.00         1\n",
      "         230       0.25      0.50      0.33         2\n",
      "\n",
      "    accuracy                           0.99      9322\n",
      "   macro avg       0.16      0.16      0.16      9322\n",
      "weighted avg       0.99      0.99      0.99      9322\n",
      "\n"
     ]
    }
   ],
   "source": [
    "DT = DecisionTreeClassifier(random_state=0)\n",
    "DT.fit(X_train, y_train) \n",
    "y_pred1 = DT.predict(X_test) \n",
    "\n",
    "# Accuracy\n",
    "acc_DT = accuracy_score(y_test,y_pred1)*100\n",
    "\n",
    "print('accuracy of Decision Tree:', '%.2f'%acc_DT)\n",
    "print(\"Confusion_matrix :\")\n",
    "print(confusion_matrix(y_test,y_pred1))\n",
    "print(\"Classification_report :\")\n",
    "print(classification_report(y_test, y_pred1)) "
   ]
  },
  {
   "cell_type": "markdown",
   "id": "916e7807",
   "metadata": {},
   "source": [
    "## Random Forest Algorithm"
   ]
  },
  {
   "cell_type": "code",
   "execution_count": 117,
   "id": "36e6a5d2",
   "metadata": {
    "scrolled": true
   },
   "outputs": [
    {
     "name": "stdout",
     "output_type": "stream",
     "text": [
      "accuracy of Random Forest: 99.32\n",
      "Confusion_matrix :\n",
      "[[ 4  0  0 ...  0  0  0]\n",
      " [ 0 31  0 ...  0  0  0]\n",
      " [ 0  0  0 ...  0  0  0]\n",
      " ...\n",
      " [ 0  0  0 ...  0  0  0]\n",
      " [ 0  0  0 ...  0  0  0]\n",
      " [ 0  0  0 ...  0  0  0]]\n",
      "Classification_report :\n",
      "              precision    recall  f1-score   support\n",
      "\n",
      "           0       1.00      0.80      0.89         5\n",
      "           9       1.00      1.00      1.00        31\n",
      "          11       0.00      0.00      0.00         1\n",
      "          14       1.00      0.83      0.91         6\n",
      "          16       0.00      0.00      0.00         1\n",
      "          18       1.00      0.33      0.50         3\n",
      "          20       0.00      0.00      0.00         0\n",
      "          23       0.33      0.50      0.40         2\n",
      "          25       0.00      0.00      0.00         1\n",
      "          26       1.00      1.00      1.00         7\n",
      "          32       0.00      0.00      0.00         1\n",
      "          33       1.00      1.00      1.00         3\n",
      "          38       0.00      0.00      0.00         1\n",
      "          45       1.00      1.00      1.00         3\n",
      "          48       0.00      0.00      0.00         1\n",
      "          49       0.00      0.00      0.00         1\n",
      "          54       0.99      1.00      1.00      7625\n",
      "          57       0.00      0.00      0.00         1\n",
      "          58       0.00      0.00      0.00         1\n",
      "          65       0.00      0.00      0.00         1\n",
      "          67       1.00      1.00      1.00         4\n",
      "          71       0.00      0.00      0.00         1\n",
      "          73       1.00      1.00      1.00       403\n",
      "          76       0.00      0.00      0.00         0\n",
      "          87       0.00      0.00      0.00         1\n",
      "          89       0.00      0.00      0.00         1\n",
      "          92       1.00      1.00      1.00        13\n",
      "          94       0.00      0.00      0.00         1\n",
      "          97       0.00      0.00      0.00         1\n",
      "          98       0.00      0.00      0.00         1\n",
      "          99       0.00      0.00      0.00         1\n",
      "         102       0.00      0.00      0.00         1\n",
      "         103       0.00      0.00      0.00         1\n",
      "         104       0.91      1.00      0.95        10\n",
      "         106       0.00      0.00      0.00         1\n",
      "         110       0.00      0.00      0.00         1\n",
      "         113       0.00      0.00      0.00         1\n",
      "         120       0.00      0.00      0.00         1\n",
      "         126       0.00      0.00      0.00         1\n",
      "         127       0.00      0.00      0.00         1\n",
      "         128       0.00      0.00      0.00         1\n",
      "         131       0.00      0.00      0.00         1\n",
      "         132       0.00      0.00      0.00         1\n",
      "         135       0.00      0.00      0.00         2\n",
      "         137       0.00      0.00      0.00         1\n",
      "         142       0.00      0.00      0.00         1\n",
      "         146       0.00      0.00      0.00         1\n",
      "         147       0.00      0.00      0.00         1\n",
      "         151       0.00      0.00      0.00         1\n",
      "         155       0.00      0.00      0.00         1\n",
      "         161       1.00      1.00      1.00        42\n",
      "         165       0.98      1.00      0.99        52\n",
      "         168       0.00      0.00      0.00         1\n",
      "         169       0.00      0.00      0.00         1\n",
      "         174       0.00      0.00      0.00         1\n",
      "         176       0.00      0.00      0.00         1\n",
      "         178       0.00      0.00      0.00         1\n",
      "         179       0.00      0.00      0.00         1\n",
      "         182       0.00      0.00      0.00         1\n",
      "         183       1.00      1.00      1.00        19\n",
      "         194       0.99      1.00      1.00      1035\n",
      "         205       0.00      0.00      0.00         1\n",
      "         206       0.00      0.00      0.00         1\n",
      "         207       0.00      0.00      0.00         1\n",
      "         213       0.00      0.00      0.00         1\n",
      "         215       0.00      0.00      0.00         1\n",
      "         217       1.00      1.00      1.00         6\n",
      "         221       1.00      1.00      1.00         1\n",
      "         225       0.00      0.00      0.00         1\n",
      "         227       0.00      0.00      0.00         1\n",
      "         230       0.00      0.00      0.00         2\n",
      "\n",
      "    accuracy                           0.99      9322\n",
      "   macro avg       0.26      0.25      0.25      9322\n",
      "weighted avg       0.99      0.99      0.99      9322\n",
      "\n"
     ]
    }
   ],
   "source": [
    "RF = RandomForestClassifier(random_state=0)\n",
    "RF.fit(X_train, y_train) \n",
    "y_pred2 = RF.predict(X_test)\n",
    "\n",
    "# Accuracy\n",
    "acc_RF = accuracy_score(y_test,y_pred2)*100\n",
    "\n",
    "print('accuracy of Random Forest:', '%.2f'%acc_RF)\n",
    "print(\"Confusion_matrix :\")\n",
    "print(confusion_matrix(y_test,y_pred2))\n",
    "print(\"Classification_report :\")\n",
    "print(classification_report(y_test, y_pred2)) "
   ]
  },
  {
   "cell_type": "markdown",
   "id": "d98ad41c",
   "metadata": {},
   "source": [
    "## Xgboost Algorithm"
   ]
  },
  {
   "cell_type": "code",
   "execution_count": 118,
   "id": "1da4dc16",
   "metadata": {
    "scrolled": true
   },
   "outputs": [
    {
     "name": "stdout",
     "output_type": "stream",
     "text": [
      "accuracy of xgboost: 97.56\n",
      "Confusion_matrix :\n",
      "[[0 0 0 ... 0 0 0]\n",
      " [1 0 0 ... 0 0 0]\n",
      " [0 0 0 ... 0 0 0]\n",
      " ...\n",
      " [0 0 0 ... 0 0 0]\n",
      " [0 0 0 ... 0 0 0]\n",
      " [0 0 0 ... 0 0 0]]\n",
      "Classification_report :\n",
      "              precision    recall  f1-score   support\n",
      "\n",
      "           0       0.00      0.00      0.00         5\n",
      "           9       0.00      0.00      0.00        31\n",
      "          11       0.00      0.00      0.00         1\n",
      "          14       0.00      0.00      0.00         6\n",
      "          16       0.00      0.00      0.00         1\n",
      "          18       0.00      0.00      0.00         3\n",
      "          23       0.00      0.00      0.00         2\n",
      "          25       0.00      0.00      0.00         1\n",
      "          26       0.46      0.86      0.60         7\n",
      "          32       0.00      0.00      0.00         1\n",
      "          33       0.00      0.00      0.00         3\n",
      "          38       0.00      0.00      0.00         1\n",
      "          45       0.00      0.00      0.00         3\n",
      "          48       0.00      0.00      0.00         1\n",
      "          49       0.00      0.00      0.00         1\n",
      "          54       0.99      0.99      0.99      7625\n",
      "          57       0.00      0.00      0.00         1\n",
      "          58       0.00      0.00      0.00         1\n",
      "          65       0.00      0.00      0.00         1\n",
      "          67       0.00      0.00      0.00         4\n",
      "          71       0.00      0.00      0.00         1\n",
      "          73       0.99      1.00      0.99       403\n",
      "          87       0.00      0.00      0.00         1\n",
      "          89       0.00      0.00      0.00         1\n",
      "          92       0.20      0.92      0.33        13\n",
      "          94       0.00      0.00      0.00         1\n",
      "          97       0.00      0.00      0.00         1\n",
      "          98       0.00      0.00      0.00         1\n",
      "          99       0.00      0.00      0.00         1\n",
      "         102       0.00      0.00      0.00         1\n",
      "         103       0.00      0.00      0.00         1\n",
      "         104       0.78      0.70      0.74        10\n",
      "         106       0.00      0.00      0.00         1\n",
      "         110       0.00      0.00      0.00         1\n",
      "         113       0.00      0.00      0.00         1\n",
      "         120       0.00      0.00      0.00         1\n",
      "         126       0.00      0.00      0.00         1\n",
      "         127       0.00      0.00      0.00         1\n",
      "         128       0.00      0.00      0.00         1\n",
      "         131       0.00      0.00      0.00         1\n",
      "         132       0.00      0.00      0.00         1\n",
      "         135       0.00      0.00      0.00         2\n",
      "         137       0.00      0.00      0.00         1\n",
      "         142       0.00      0.00      0.00         1\n",
      "         146       0.00      0.00      0.00         1\n",
      "         147       0.00      0.00      0.00         1\n",
      "         151       0.00      0.00      0.00         1\n",
      "         155       0.00      0.00      0.00         1\n",
      "         161       0.87      0.93      0.90        42\n",
      "         165       0.81      1.00      0.90        52\n",
      "         168       0.00      0.00      0.00         1\n",
      "         169       0.00      0.00      0.00         1\n",
      "         174       0.00      0.00      0.00         1\n",
      "         176       0.00      0.00      0.00         1\n",
      "         178       0.00      0.00      0.00         1\n",
      "         179       0.00      0.00      0.00         1\n",
      "         182       0.00      0.00      0.00         1\n",
      "         183       0.29      0.79      0.43        19\n",
      "         194       0.98      0.99      0.98      1035\n",
      "         205       0.00      0.00      0.00         1\n",
      "         206       0.00      0.00      0.00         1\n",
      "         207       0.00      0.00      0.00         1\n",
      "         213       0.00      0.00      0.00         1\n",
      "         215       0.00      0.00      0.00         1\n",
      "         217       0.43      0.50      0.46         6\n",
      "         221       0.00      0.00      0.00         1\n",
      "         225       0.00      0.00      0.00         1\n",
      "         227       0.00      0.00      0.00         1\n",
      "         230       0.00      0.00      0.00         2\n",
      "\n",
      "    accuracy                           0.98      9322\n",
      "   macro avg       0.10      0.13      0.11      9322\n",
      "weighted avg       0.97      0.98      0.97      9322\n",
      "\n"
     ]
    }
   ],
   "source": [
    "XGB = XGBClassifier(random_state=0,eval_metric='mlogloss')\n",
    "XGB.fit(X_train, y_train)\n",
    "y_pred3 = XGB.predict(X_test)\n",
    "\n",
    "# Accuracy\n",
    "acc_XGB = accuracy_score(y_test,y_pred3)*100\n",
    "\n",
    "print('accuracy of xgboost:', '%.2f'%acc_XGB)\n",
    "print(\"Confusion_matrix :\")\n",
    "print(confusion_matrix(y_test,y_pred3))\n",
    "print(\"Classification_report :\")\n",
    "print(classification_report(y_test, y_pred3))"
   ]
  },
  {
   "cell_type": "markdown",
   "id": "ff8cc478",
   "metadata": {},
   "source": [
    "## Accuracy of model"
   ]
  },
  {
   "cell_type": "code",
   "execution_count": 119,
   "id": "e67b53cc",
   "metadata": {},
   "outputs": [
    {
     "name": "stdout",
     "output_type": "stream",
     "text": [
      "Decision Tree has accuracy: 98.61 %\n",
      "Random Forest has accuracy: 99.32 %\n",
      "Xgboost has accuracy: 97.56 %\n"
     ]
    }
   ],
   "source": [
    "acc=[acc_DT,acc_RF,acc_XGB]\n",
    "algorithm=['Decision Tree','Random Forest','Xgboost']\n",
    "for i in  range(len(acc)):\n",
    "    print(algorithm[i],'has accuracy:','%.2f'%acc[i],'%')"
   ]
  },
  {
   "cell_type": "markdown",
   "id": "1143d4c1",
   "metadata": {},
   "source": [
    "## Prediction"
   ]
  },
  {
   "cell_type": "code",
   "execution_count": 120,
   "id": "dd330a96",
   "metadata": {},
   "outputs": [
    {
     "data": {
      "text/html": [
       "<div>\n",
       "<style scoped>\n",
       "    .dataframe tbody tr th:only-of-type {\n",
       "        vertical-align: middle;\n",
       "    }\n",
       "\n",
       "    .dataframe tbody tr th {\n",
       "        vertical-align: top;\n",
       "    }\n",
       "\n",
       "    .dataframe thead th {\n",
       "        text-align: right;\n",
       "    }\n",
       "</style>\n",
       "<table border=\"1\" class=\"dataframe\">\n",
       "  <thead>\n",
       "    <tr style=\"text-align: right;\">\n",
       "      <th></th>\n",
       "      <th>CI_Cat</th>\n",
       "      <th>CI_Subcat</th>\n",
       "      <th>WBS</th>\n",
       "      <th>Priority</th>\n",
       "      <th>No_of_Related_Interactions</th>\n",
       "      <th>No_of_Related_Incidents</th>\n",
       "      <th>Related_Interaction</th>\n",
       "      <th>KB_number</th>\n",
       "      <th>number_cnt</th>\n",
       "      <th>Closure_Code</th>\n",
       "      <th>No_of_Related_Changes</th>\n",
       "      <th>Related_Change</th>\n",
       "    </tr>\n",
       "  </thead>\n",
       "  <tbody>\n",
       "    <tr>\n",
       "      <th>0</th>\n",
       "      <td>11</td>\n",
       "      <td>57</td>\n",
       "      <td>137</td>\n",
       "      <td>4.0</td>\n",
       "      <td>1.0</td>\n",
       "      <td>2.0</td>\n",
       "      <td>2</td>\n",
       "      <td>413</td>\n",
       "      <td>0.601292</td>\n",
       "      <td>6</td>\n",
       "      <td>1.0</td>\n",
       "      <td>54</td>\n",
       "    </tr>\n",
       "    <tr>\n",
       "      <th>1</th>\n",
       "      <td>1</td>\n",
       "      <td>57</td>\n",
       "      <td>70</td>\n",
       "      <td>3.0</td>\n",
       "      <td>1.0</td>\n",
       "      <td>1.0</td>\n",
       "      <td>3</td>\n",
       "      <td>456</td>\n",
       "      <td>0.415050</td>\n",
       "      <td>10</td>\n",
       "      <td>1.0</td>\n",
       "      <td>54</td>\n",
       "    </tr>\n",
       "    <tr>\n",
       "      <th>2</th>\n",
       "      <td>1</td>\n",
       "      <td>10</td>\n",
       "      <td>74</td>\n",
       "      <td>3.0</td>\n",
       "      <td>1.0</td>\n",
       "      <td>1.0</td>\n",
       "      <td>4</td>\n",
       "      <td>244</td>\n",
       "      <td>0.517551</td>\n",
       "      <td>4</td>\n",
       "      <td>1.0</td>\n",
       "      <td>194</td>\n",
       "    </tr>\n",
       "    <tr>\n",
       "      <th>3</th>\n",
       "      <td>1</td>\n",
       "      <td>57</td>\n",
       "      <td>70</td>\n",
       "      <td>4.0</td>\n",
       "      <td>1.0</td>\n",
       "      <td>1.0</td>\n",
       "      <td>5</td>\n",
       "      <td>456</td>\n",
       "      <td>0.642927</td>\n",
       "      <td>5</td>\n",
       "      <td>1.0</td>\n",
       "      <td>54</td>\n",
       "    </tr>\n",
       "    <tr>\n",
       "      <th>4</th>\n",
       "      <td>1</td>\n",
       "      <td>57</td>\n",
       "      <td>70</td>\n",
       "      <td>4.0</td>\n",
       "      <td>1.0</td>\n",
       "      <td>1.0</td>\n",
       "      <td>6</td>\n",
       "      <td>456</td>\n",
       "      <td>0.345258</td>\n",
       "      <td>6</td>\n",
       "      <td>1.0</td>\n",
       "      <td>54</td>\n",
       "    </tr>\n",
       "    <tr>\n",
       "      <th>...</th>\n",
       "      <td>...</td>\n",
       "      <td>...</td>\n",
       "      <td>...</td>\n",
       "      <td>...</td>\n",
       "      <td>...</td>\n",
       "      <td>...</td>\n",
       "      <td>...</td>\n",
       "      <td>...</td>\n",
       "      <td>...</td>\n",
       "      <td>...</td>\n",
       "      <td>...</td>\n",
       "      <td>...</td>\n",
       "    </tr>\n",
       "    <tr>\n",
       "      <th>46601</th>\n",
       "      <td>1</td>\n",
       "      <td>45</td>\n",
       "      <td>59</td>\n",
       "      <td>4.0</td>\n",
       "      <td>1.0</td>\n",
       "      <td>1.0</td>\n",
       "      <td>43057</td>\n",
       "      <td>1025</td>\n",
       "      <td>0.231896</td>\n",
       "      <td>6</td>\n",
       "      <td>1.0</td>\n",
       "      <td>54</td>\n",
       "    </tr>\n",
       "    <tr>\n",
       "      <th>46602</th>\n",
       "      <td>1</td>\n",
       "      <td>45</td>\n",
       "      <td>59</td>\n",
       "      <td>4.0</td>\n",
       "      <td>1.0</td>\n",
       "      <td>1.0</td>\n",
       "      <td>43052</td>\n",
       "      <td>1821</td>\n",
       "      <td>0.805153</td>\n",
       "      <td>12</td>\n",
       "      <td>1.0</td>\n",
       "      <td>54</td>\n",
       "    </tr>\n",
       "    <tr>\n",
       "      <th>46603</th>\n",
       "      <td>3</td>\n",
       "      <td>21</td>\n",
       "      <td>73</td>\n",
       "      <td>5.0</td>\n",
       "      <td>1.0</td>\n",
       "      <td>1.0</td>\n",
       "      <td>43053</td>\n",
       "      <td>225</td>\n",
       "      <td>0.917466</td>\n",
       "      <td>1</td>\n",
       "      <td>1.0</td>\n",
       "      <td>73</td>\n",
       "    </tr>\n",
       "    <tr>\n",
       "      <th>46604</th>\n",
       "      <td>1</td>\n",
       "      <td>57</td>\n",
       "      <td>59</td>\n",
       "      <td>4.0</td>\n",
       "      <td>1.0</td>\n",
       "      <td>1.0</td>\n",
       "      <td>43054</td>\n",
       "      <td>1003</td>\n",
       "      <td>0.701278</td>\n",
       "      <td>10</td>\n",
       "      <td>1.0</td>\n",
       "      <td>54</td>\n",
       "    </tr>\n",
       "    <tr>\n",
       "      <th>46605</th>\n",
       "      <td>6</td>\n",
       "      <td>6</td>\n",
       "      <td>218</td>\n",
       "      <td>3.0</td>\n",
       "      <td>1.0</td>\n",
       "      <td>1.0</td>\n",
       "      <td>43059</td>\n",
       "      <td>134</td>\n",
       "      <td>0.902320</td>\n",
       "      <td>1</td>\n",
       "      <td>1.0</td>\n",
       "      <td>54</td>\n",
       "    </tr>\n",
       "  </tbody>\n",
       "</table>\n",
       "<p>46606 rows × 12 columns</p>\n",
       "</div>"
      ],
      "text/plain": [
       "       CI_Cat  CI_Subcat  WBS  Priority  No_of_Related_Interactions  \\\n",
       "0          11         57  137       4.0                         1.0   \n",
       "1           1         57   70       3.0                         1.0   \n",
       "2           1         10   74       3.0                         1.0   \n",
       "3           1         57   70       4.0                         1.0   \n",
       "4           1         57   70       4.0                         1.0   \n",
       "...       ...        ...  ...       ...                         ...   \n",
       "46601       1         45   59       4.0                         1.0   \n",
       "46602       1         45   59       4.0                         1.0   \n",
       "46603       3         21   73       5.0                         1.0   \n",
       "46604       1         57   59       4.0                         1.0   \n",
       "46605       6          6  218       3.0                         1.0   \n",
       "\n",
       "       No_of_Related_Incidents  Related_Interaction  KB_number  number_cnt  \\\n",
       "0                          2.0                    2        413    0.601292   \n",
       "1                          1.0                    3        456    0.415050   \n",
       "2                          1.0                    4        244    0.517551   \n",
       "3                          1.0                    5        456    0.642927   \n",
       "4                          1.0                    6        456    0.345258   \n",
       "...                        ...                  ...        ...         ...   \n",
       "46601                      1.0                43057       1025    0.231896   \n",
       "46602                      1.0                43052       1821    0.805153   \n",
       "46603                      1.0                43053        225    0.917466   \n",
       "46604                      1.0                43054       1003    0.701278   \n",
       "46605                      1.0                43059        134    0.902320   \n",
       "\n",
       "       Closure_Code  No_of_Related_Changes  Related_Change  \n",
       "0                 6                    1.0              54  \n",
       "1                10                    1.0              54  \n",
       "2                 4                    1.0             194  \n",
       "3                 5                    1.0              54  \n",
       "4                 6                    1.0              54  \n",
       "...             ...                    ...             ...  \n",
       "46601             6                    1.0              54  \n",
       "46602            12                    1.0              54  \n",
       "46603             1                    1.0              73  \n",
       "46604            10                    1.0              54  \n",
       "46605             1                    1.0              54  \n",
       "\n",
       "[46606 rows x 12 columns]"
      ]
     },
     "execution_count": 120,
     "metadata": {},
     "output_type": "execute_result"
    }
   ],
   "source": [
    "n"
   ]
  },
  {
   "cell_type": "markdown",
   "id": "eacf1a57",
   "metadata": {},
   "source": [
    "### Row 0"
   ]
  },
  {
   "cell_type": "code",
   "execution_count": 121,
   "id": "36a0ebca",
   "metadata": {},
   "outputs": [
    {
     "name": "stdout",
     "output_type": "stream",
     "text": [
      "[54]\n"
     ]
    }
   ],
   "source": [
    "print(DT.predict(sc.transform([[11,57,137,4.0,1.0,2.0,2,413,0.601292,6,1.0]])))"
   ]
  },
  {
   "cell_type": "code",
   "execution_count": 122,
   "id": "60ab1b3b",
   "metadata": {},
   "outputs": [
    {
     "name": "stdout",
     "output_type": "stream",
     "text": [
      "[54]\n"
     ]
    }
   ],
   "source": [
    "print(RF.predict(sc.transform([[11,57,137,4.0,1.0,2.0,2,413,0.601292,6,1.0]])))"
   ]
  },
  {
   "cell_type": "code",
   "execution_count": 123,
   "id": "9303b98c",
   "metadata": {},
   "outputs": [
    {
     "name": "stdout",
     "output_type": "stream",
     "text": [
      "[54]\n"
     ]
    }
   ],
   "source": [
    "print(XGB.predict(sc.transform([[11,57,137,4.0,1.0,2.0,2,413,0.601292,6,1.0]])))"
   ]
  },
  {
   "cell_type": "markdown",
   "id": "3f16430f",
   "metadata": {},
   "source": [
    "### Row 2"
   ]
  },
  {
   "cell_type": "code",
   "execution_count": 124,
   "id": "56a34a6c",
   "metadata": {},
   "outputs": [
    {
     "name": "stdout",
     "output_type": "stream",
     "text": [
      "[194]\n"
     ]
    }
   ],
   "source": [
    "print(DT.predict(sc.transform([[1,10,74,3.0,1.0,1.0,4,244,0.517551,4,1.0]])))"
   ]
  },
  {
   "cell_type": "code",
   "execution_count": 125,
   "id": "c9879225",
   "metadata": {},
   "outputs": [
    {
     "name": "stdout",
     "output_type": "stream",
     "text": [
      "[194]\n"
     ]
    }
   ],
   "source": [
    "print(RF.predict(sc.transform([[1,10,74,3.0,1.0,1.0,4,244,0.517551,4,1.0]])))"
   ]
  },
  {
   "cell_type": "code",
   "execution_count": 126,
   "id": "ba78a898",
   "metadata": {},
   "outputs": [
    {
     "name": "stdout",
     "output_type": "stream",
     "text": [
      "[194]\n"
     ]
    }
   ],
   "source": [
    "print(XGB.predict(sc.transform([[1,10,74,3.0,1.0,1.0,4,244,0.517551,4,1.0]])))"
   ]
  },
  {
   "cell_type": "markdown",
   "id": "e0117305",
   "metadata": {},
   "source": [
    "### Row 46603"
   ]
  },
  {
   "cell_type": "code",
   "execution_count": 127,
   "id": "d997b46e",
   "metadata": {},
   "outputs": [
    {
     "name": "stdout",
     "output_type": "stream",
     "text": [
      "[73]\n"
     ]
    }
   ],
   "source": [
    "print(DT.predict(sc.transform([[3,21,73,5.0,1.0,1.0,43053,225,0.917466,1,1.0]])))"
   ]
  },
  {
   "cell_type": "code",
   "execution_count": 128,
   "id": "2870176b",
   "metadata": {},
   "outputs": [
    {
     "name": "stdout",
     "output_type": "stream",
     "text": [
      "[73]\n"
     ]
    }
   ],
   "source": [
    "print(RF.predict(sc.transform([[3,21,73,5.0,1.0,1.0,43053,225,0.917466,1,1.0]])))"
   ]
  },
  {
   "cell_type": "code",
   "execution_count": 129,
   "id": "aceb1e44",
   "metadata": {},
   "outputs": [
    {
     "name": "stdout",
     "output_type": "stream",
     "text": [
      "[73]\n"
     ]
    }
   ],
   "source": [
    "print(XGB.predict(sc.transform([[3,21,73,5.0,1.0,1.0,43053,225,0.917466,1,1.0]])))"
   ]
  }
 ],
 "metadata": {
  "kernelspec": {
   "display_name": "Python 3",
   "language": "python",
   "name": "python3"
  },
  "language_info": {
   "codemirror_mode": {
    "name": "ipython",
    "version": 3
   },
   "file_extension": ".py",
   "mimetype": "text/x-python",
   "name": "python",
   "nbconvert_exporter": "python",
   "pygments_lexer": "ipython3",
   "version": "3.8.8"
  }
 },
 "nbformat": 4,
 "nbformat_minor": 5
}
